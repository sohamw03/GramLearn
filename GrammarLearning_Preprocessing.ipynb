{
  "nbformat": 4,
  "nbformat_minor": 0,
  "metadata": {
    "colab": {
      "provenance": [],
      "collapsed_sections": [
        "JOi0JCE3Mn3u"
      ]
    },
    "kernelspec": {
      "name": "python3",
      "display_name": "Python 3"
    },
    "language_info": {
      "name": "python"
    }
  },
  "cells": [
    {
      "cell_type": "markdown",
      "source": [
        "# Data Wrangling"
      ],
      "metadata": {
        "id": "DJx33zopRLKs"
      }
    },
    {
      "cell_type": "code",
      "source": [
        "# Using SDK targeting 2024-02-29-preview or 2023-10-31-preview, make sure your resource is in one of these regions: East US, West US2, West Europe\n",
        "!pip install azure-ai-documentintelligence==1.0.0b1\n",
        "!pip install langchain langchain-community azure-ai-documentintelligence"
      ],
      "metadata": {
        "id": "8Mo5PLTyUI9y"
      },
      "execution_count": null,
      "outputs": []
    },
    {
      "cell_type": "code",
      "source": [
        "from azure.ai.documentintelligence import DocumentIntelligenceClient\n",
        "from google.colab import userdata\n",
        "import os\n",
        "\n",
        "endpoint = \"https://yozu-doc-intel.cognitiveservices.azure.com/\"\n",
        "key = str(userdata.get(\"DOC_INT_API_KEY\"))\n",
        "\n",
        "from langchain_community.document_loaders import AzureAIDocumentIntelligenceLoader\n",
        "from langchain.text_splitter import MarkdownHeaderTextSplitter\n",
        "\n",
        "chunked_data = []\n",
        "\n",
        "pdf_folder = \"/content/splitpdf\"\n",
        "filelist = os.listdir(pdf_folder)\n",
        "for i in range(len(filelist)):\n",
        "  filename = filelist[i]\n",
        "  print(\"Filename:\", filename)\n",
        "  if filename.endswith(\".pdf\"):  # Check for PDF extension\n",
        "    pdf_path = os.path.join(pdf_folder, filename)\n",
        "    # Initiate Azure AI Document Intelligence to load the document. You can either specify file_path or url_path to load the document.\n",
        "    loader = AzureAIDocumentIntelligenceLoader(file_path=pdf_path, api_key = key, api_endpoint = endpoint, api_model=\"prebuilt-layout\")\n",
        "    docs = loader.load()\n",
        "\n",
        "    # Split the document into chunks base on markdown headers.\n",
        "    headers_to_split_on = [\n",
        "        (\"#\", \"Header 1\"),\n",
        "        (\"##\", \"Header 2\"),\n",
        "        (\"###\", \"Header 3\"),\n",
        "    ]\n",
        "    text_splitter = MarkdownHeaderTextSplitter(headers_to_split_on=headers_to_split_on)\n",
        "\n",
        "    docs_string = docs[0].page_content\n",
        "    splits = text_splitter.split_text(docs_string)\n",
        "    if len(splits) == 0:\n",
        "      continue\n",
        "    chunked_data.append(splits[0])\n",
        "\n",
        "chunked_data"
      ],
      "metadata": {
        "colab": {
          "base_uri": "https://localhost:8080/"
        },
        "id": "wu1FkbH1RQig",
        "outputId": "2e8cfdaa-f467-4e29-b360-1fea64bf5037"
      },
      "execution_count": null,
      "outputs": [
        {
          "output_type": "stream",
          "name": "stdout",
          "text": [
            "Filename: wren_and_martin_simplified_textbook-19.pdf\n",
            "Filename: wren_and_martin_simplified_textbook-21.pdf\n",
            "Filename: wren_and_martin_simplified_textbook-20.pdf\n",
            "Filename: wren_and_martin_simplified_textbook-6.pdf\n",
            "Filename: wren_and_martin_simplified_textbook-39.pdf\n",
            "Filename: wren_and_martin_simplified_textbook-13.pdf\n",
            "Filename: wren_and_martin_simplified_textbook-4.pdf\n",
            "Filename: wren_and_martin_simplified_textbook-33.pdf\n",
            "Filename: wren_and_martin_simplified_textbook-18.pdf\n",
            "Filename: wren_and_martin_simplified_textbook-2.pdf\n",
            "Filename: wren_and_martin_simplified_textbook-28.pdf\n",
            "Filename: wren_and_martin_simplified_textbook-9.pdf\n",
            "Filename: wren_and_martin_simplified_textbook-48.pdf\n",
            "Filename: wren_and_martin_simplified_textbook-50.pdf\n",
            "Filename: wren_and_martin_simplified_textbook-7.pdf\n",
            "Filename: wren_and_martin_simplified_textbook-37.pdf\n",
            "Filename: wren_and_martin_simplified_textbook-45.pdf\n",
            "Filename: .ipynb_checkpoints\n",
            "Filename: wren_and_martin_simplified_textbook-31.pdf\n",
            "Filename: wren_and_martin_simplified_textbook-16.pdf\n",
            "Filename: wren_and_martin_simplified_textbook-17.pdf\n",
            "Filename: wren_and_martin_simplified_textbook-43.pdf\n",
            "Filename: wren_and_martin_simplified_textbook-34.pdf\n",
            "Filename: wren_and_martin_simplified_textbook-26.pdf\n",
            "Filename: wren_and_martin_simplified_textbook-35.pdf\n",
            "Filename: wren_and_martin_simplified_textbook-22.pdf\n",
            "Filename: wren_and_martin_simplified_textbook-5.pdf\n",
            "Filename: wren_and_martin_simplified_textbook-25.pdf\n",
            "Filename: wren_and_martin_simplified_textbook-3.pdf\n",
            "Filename: wren_and_martin_simplified_textbook-38.pdf\n",
            "Filename: wren_and_martin_simplified_textbook-46.pdf\n",
            "Filename: wren_and_martin_simplified_textbook-41.pdf\n",
            "Filename: wren_and_martin_simplified_textbook-14.pdf\n",
            "Filename: wren_and_martin_simplified_textbook-36.pdf\n",
            "Filename: wren_and_martin_simplified_textbook-44.pdf\n",
            "Filename: wren_and_martin_simplified_textbook-42.pdf\n",
            "Filename: wren_and_martin_simplified_textbook-12.pdf\n",
            "Filename: wren_and_martin_simplified_textbook-1.pdf\n",
            "Filename: wren_and_martin_simplified_textbook-40.pdf\n",
            "Filename: wren_and_martin_simplified_textbook-32.pdf\n",
            "Filename: wren_and_martin_simplified_textbook-10.pdf\n",
            "Filename: wren_and_martin_simplified_textbook-47.pdf\n",
            "Filename: wren_and_martin_simplified_textbook-15.pdf\n",
            "Filename: wren_and_martin_simplified_textbook-27.pdf\n",
            "Filename: wren_and_martin_simplified_textbook-29.pdf\n",
            "Filename: wren_and_martin_simplified_textbook-30.pdf\n",
            "Filename: wren_and_martin_simplified_textbook-8.pdf\n",
            "Filename: wren_and_martin_simplified_textbook-23.pdf\n",
            "Filename: wren_and_martin_simplified_textbook-49.pdf\n",
            "Filename: wren_and_martin_simplified_textbook-11.pdf\n",
            "Filename: wren_and_martin_simplified_textbook-24.pdf\n"
          ]
        },
        {
          "output_type": "execute_result",
          "data": {
            "text/plain": [
              "[Document(page_content='caption, rascal, patriot, glutton. Page 8  \\nCHAPTER 6\\n===  \\nTHE NOUN: GENDER  \\n25\\\\. You know that living beings are of either the male or the female sex. Now compare the words in the following pairs: Boy (Lion, Hero, Cock-sparrow) Girl (Lioness, Heroine, Hen-sparrow)  \\nWhat do you notice? The first word of each pair is the name of a male animal. The second word of each pair is the name of a female animal. A noun that denotes a male animal is said to be of the Masculine Gender. [Gender comes from Latin genus, kind or sort.] A noun that denotes a female animal is said to be of the Feminine Gender.  \\n26\\\\. A noun that denotes either a male or a female is said to be of the Common Gender; as Parent, child, friend, pupil, servant, thief, relation, enemy, cousin, person, orphan, student, baby, monarch, neighbour, infant.  \\n27\\\\. A noun that denotes a thing that is neither male nor female (i.e., thing without life) is said to be of the Neuter Gender; as, Book, pen, room, tree. [Neater means neither, that is, neither male nor female]  \\nIt will be thus seen that in Modern English the Gender of a noun is entirely a matter of sex or the absence of sex. It has nothing to do with the form of a noun, which determines its gender in many other languages, e.g., in Urdu where bagiche is masculine and lakri is feminine.  \\n28\\\\. Objects without life are often personified, that is, spoken of as if they were living beings. We then regard them as males or females.  \\nThe Masculine Gender is often applied to objects remarkable for strength and violence; as, The Sun, Summer, Winter, Time, Death, The sun sheds his beams on rich and poor alike.  \\nThe Feminine Gender is sometimes applied to objects remarkable for beauty, gentleness, and gracefulness; as,  \\nThe Moon, the Earth, Spring, Autumn, Nature, Liberty, Justice, Mercy, Peace, Hope, Charity.'),\n",
              " Document(page_content='Masculine -- Feminine Author -- authoress Baron -- baroness Count -- countess Giant -- giantess Heir -- heiress Host -- hostess Jew -- Jewess Lion -- lioness Manager -- manageress Mayor -- mayoress Patron -- patroness Peer -- peeress Poet -- poetess Priest -- priestess Prophet -- prophetess Shepherd -- shepherdess Steward -- stewardess Viscount -- viscountess  \\n[Note that in the following -ess is added after dropping the vowel of the masculine ending]  \\nMasculine -- Feminine Actor -- actress Benefactor -- benefactress Conductor -- conductress Enchanter -- enchantress Founder -- foundress Hunter -- huntress Instructor -- instructress Negro -- negress Abbot -- abbess Duke -- duchess Emperor -- empress Preceptor -- preceptress Prince -- princess Songster -- songstress Tempter -- temptress Seamster -- seamstress Tiger -- tigress Traitor -- traitress Waiter -- waitress Master -- mistress Murderer -- murderess Sorcerer -- sorceress  \\nNote :- The suffix -ess is the commonest suffix used to form feminine nouns, from the'),\n",
              " Document(page_content='The moon has hidden her face behind a cloud. Spring has spread her mantle of green over the earth. Peace hath her victories no less renowned than war.  \\nThis use is most common in poetry but certain nouns are personified in nrose too. A shin is often spoken of as she; as, The ship lost her boats in the storm.  \\nPage 9  \\nWays of Forming the Feminine of Nouns 29. There are three ways of forming the Feminine of Nouns:  \\n(1) By using an entirely different word; as  \\nMasculine -- Feminine  \\nBachelor -- maid, spinster Boy -- girl Brother -- sister Buck -- doe Bull (or ox) -- cow Bullock -- heifer Cock -- hen Colt -- filly Dog -- bitch Drake -- duck Drone -- bee Earl -- countess Father -- mother Gander -- goose Gentleman -- lady Hart -- roe Horse -- mare Husband -- wife King -- queen Lord -- lady Man -- woman Monk (or friar) -- nun Nephew -- niece Papa -- mamma Ram -- ewe Sir -- madam Son -- daughter Stag -- hind Uncle -- aunt Wizard -- witch  \\n(2) By adding a syllable (-ess, -ine, -trix, -a, etc) as,'),\n",
              " Document(page_content='Exercises 101-103 -- 256  \\n16\\\\. DIRECT AND INDIRECT SPEECH -- 258-266 Exercises 104-109 -- 261  \\nPART II  \\nCORRECT USAGE 17. AGREEMENT OF THE VERB WITH THE SUBJECT -- 267-270 Exercise 110 -- 269  \\n18\\\\. NOUNS AND PRONOUNS -- 270-275 Exercises 111-114 -- 273  \\n19\\\\. ADJECTIVES -- 275-278  \\n20\\\\. VERBS -- 278-282 Exercise 115 -- 281  \\n21\\\\. ADVERBS -- 282-284 Exercise 116 -- 283  \\n22\\\\. CONJUNCTIONS -- 284-285  \\n23\\\\. ORDER OF WORDS -- 285-287 Exercises 117-118 -- 286  \\n24\\\\. IDIOMS -- 288-294  \\n25\\\\. IDIOMS (Contd.) -- 294-311  \\n26\\\\. PUNCTUATION -- 312-319 Exercises 119-122 -- 316  \\n27\\\\. SPELLING RULES -- 319-320  \\n28\\\\. THE FORMATION OF WORDS -- 321-333 Page vii  \\n29\\\\. FIGURES OF SPEECH -- 333-344 Exercise 125 -- 339  \\nPART III  \\nSTRUCTURES 30. VERB PATTERNS -- 341-347 Exercise 126 -- 347'),\n",
              " Document(page_content='<!-- PageHeader=\"kind, cruel, healthy, dutiful, distant, certain.\" -->  \\nExercise in Composition 10  \\nUse a suitable Adjective with each of the following Nouns : [Models .- A violent storm. A long siege. A decisive victory. A populous city. A devoted husband.  \\nStorm, siege, sleep, victory, advice, blow, silence, hands, water, servant, flower, city, artist, dealer, voice, husband, subject, child, king, dog.  \\nExercise in Composition 11  \\nUse as many suitable Adjectives as you can with each of the following Nouns: [Models. - A narrow street, a wide street, a crooked street, a dirty street A clean street. A deliberate lie, a black lie, a white lie.] Fortune, man, news, storm, health, noveh progress, room, incident.  \\nExercise in Composition 12  \\nWrite down the Adjectives opposite in meaning to the following :- Courageous, many, wild, hot, lean, heavy, costly, barren, beautiful, patient, honest, civilized, careful, strong, experienced, slow, friendly, cruel, soft.'),\n",
              " Document(page_content='13. An Adverb is a word used to add something to the meaning of a verb, an adjective, or another adverb; as,  \\nHe worked the sum quickly. This flower is very beautiful. She pronounced the word quite correctly.  \\n14\\\\. A Preposition is a word used with a noun or a pronoun to show how the person or thing denoted by the noun or pronoun stands in relation to something else; as,  \\nThere is a cow in the garden. The girl is fond of music. A fair little girl sat under a tree.  \\n15\\\\. A Conjunction is a word used to join words or sentences; as,  \\nRama and Hari are cousins. Two and two make four.  \\nI ran fast, but missed the train.  \\n16\\\\. An Interjection is a word which expresses some sudden feel ing; as, Hurrah! We have won the game. Alas! She is dead.  \\n17\\\\. Some modern grammars include determiners among the parts of speech. Determiners are words like a, an, the, this, that, these, those, every, each, some, any, my, his, one, two, etc., which determine or limit the meaning of the nouns that follow. In this book, as in many traditional grammars, all determiners except a, an and the are classed among adjectives.  \\n18\\\\. As words are divided into different classes according to the work they do in sentences, it is clear that we cannot say to which part of speech a word belongs unless we see it used in a sentence.  \\nThey arrived soon after. (Adverb) They arrived after us. (Preposition) They arrived after we had left. (Conjunction) From the above examples we see that the same word can be used as different parts of speech.  \\nExercise in Grammar 2  \\nName the part of speech of each italicized word in the following sentences, giving in each case your reason for the classification:  \\n1\\\\. Still waters run deep.  \\n2\\\\. He still lives in that house  \\n3\\\\. After the storm comes the calm  \\n4\\\\. The after effects of the drug are bad.  \\n5\\\\. The up train is late.'),\n",
              " Document(page_content='Adverb Phrases -- 181 Exercises 13-19 -- 182 Noun Phrases -- 184 Exercises 20-22 -- 184  \\n3\\\\. CLAUSES -- 185-193 Adverb Clauses -- 185 Exercises 23-26 -- 186 Adjective Clauses -- 188 Exercises 27-30 -- 188 Noun Clauses -- 190 Exercises 31-34 -- 190 Exercises 35-36 -- 192  \\n4\\\\. SENTENCES: SIMPLE, COMPOUND AND COMPLEX -- 193-196 Exercise 37 -- 195  \\n5\\\\. MORE ABOUT NOUN CLAUSES -- 196-198 Exercises 38-39 -- 197  \\n6\\\\. MORE ABOUT ADJECTIVE CLAUSES -- 198-201 Exercises 40-42 -- 200  \\n7\\\\. MORE ABOUT ADVERB CLAUSES -- 201-208 Adverb clauses of Time -- 201 Exercise 43 -- 201 Adverb clauses of Place -- 201 Exercise 44 -- 202 Adverb Clauses of Purpose -- 202 Exercise 45 -- 202 Adverb Clauses of Cause or Reason -- 202 Exercise 46 -- 202 Adverb Clauses of Condition -- 202 Exercise 47 -- 203 Adverb Clauses of Result and Consequence -- 203 Exercise 48 -- 204 Adverb Clauses of Comparison -- 204 Exercises 49-50 -- 204 Adverb Clauses of Supposition or Concession -- 204 Exercise 51 -- 205 Exercises 52-55 -- 205 8. ANALYSIS OF COMPLEX SENTENCES (Clause Analysis) -- 208-211 Exercise 56 -- 210  \\n9\\\\. ANALYSIS OF COMPOUND SENTENCES (Clause Analysis) -- 211-215 Exercise 57 -- 213 Exercise 58 (Miscellaneous) -- 214'),\n",
              " Document(page_content='CHAPTER 9'),\n",
              " Document(page_content='Please, Act, Starve, Occupy, Choose, Move, Conceal, Seize, Flatter, Depart, Persevere, Defend, Think, Protect, Advise, Punish, Die. Succeed, Free, See, Judge, Pursue, Relieve, Converse, Discover. King, man, thief, woman, bankrupt, infant, owner, rogue, regent, author, mother, agent, hero, beggar, coward, priest, boy bond, pirate, pilgrim, friend,  \\nForm Abstract Nouns from the following Common Nouns:'),\n",
              " Document(page_content='in particular to revise some material in the chapters dealing with adjectives, active and passive voice, articles and prepositions. Appendix I, which deals with American English, has been expanded. Appendix II has been replaced with a newer set of tests covering the important areas of grammar.  \\nIt was in the year 1972 that the shrewd visionary Mr. Shyam Lai Gupta obtained the permission of Manecji Cooper Education Trust for the revision of this book and commissioned me to revise it thoroughly. The revised edition came out in 1973 and was well received. One of the main features of the revised edition was the addition of a great deal of new material (such as the three chapters on structures) based on the new developments in the study of English structure and usage. Subsequently the book was revised every four or five years and most extensively in 1999.  \\nUnlike many traditional grammar books, the book in the present form helps the student to use the language as well as giving detailed information about the language. It provides ample guidance and practice in sentence building, correct usage, comprehension, written composition and other allied areas so as to equip the student with the ability to communicate effectively in English.  \\nIt is gratifying to learn that this classic work, though primarily intended for use in the Indian subcontinent, is also used in Sri Lanka, Malaysia, Singapore, Mauritius, etc. It is hoped that the book will be found useful in many more countries where English is used as a second or foreign language.  \\nN.D.V. Prasada Rao  \\nYour Attention Please  \\nIn this work, on some pages, the Publishers have stated between parallel lines, \"A work from S. CHAND & COMPANY LTD.\" This has been done to establish that this is a genuine edition of the work.  \\nPublishers  \\nPage iv'),\n",
              " Document(page_content=\"Quarter: fourth part. -- Quarters: (1) fourth parts; (2) lodgings. Spectacle: a sight. -- Spectacles: (1) sights; (2) eye-glasses. Letter: (1) letter of the alphabet; (2) epistle -- Letters: (1) letters of the alphabet; (2) epistle; (3) literature. Ground: (1) earth; (2) reason -- Grounds: (1) enclosed land attached to house. (2) reason; (2) reasons; (3) dregs.  \\n44\\\\. Some nouns have different meanings in the singular and the plural.  \\nSingular -- Plural Advice: counsel. -- Advices: information. Air: atmosphere. -- Airs: affected manners. Good: benefit, well-being. -- Goods: merchandise. Compass: extent, range. -- Compasses: an instrument for drawing circles. Respect: regard. -- Respects: compliments.  \\nPage 15  \\nPhysic: medicine. -- Physics: natural science. Iron: a kind of metal. -- Irons: fetters. Force: strength. -- Forces: troops.  \\n45\\\\. Letters, figures and other symbols are made plural by adding an apostrophe and s; as, There are more e's than a's in this page. Dot your i's and cross your t's. Add two 5's and four 2's.  \\n46\\\\. It is usual to say The Miss Smiths. (Singular, Miss Smith.)  \\n47\\\\. Abstract Nouns have no plural. They are uncountable. Hope, charity, love, kindness.  \\nWhen such words do appear in the plural, they are used as countables; as  \\nProvocations = instances or cases of provocation. Kindnesses = acts of kindness.  \\nNames of substances are also uncountables and are not therefore used in the plural. Copper, iron, tin, wood.  \\nWhen such words are used in the plural, they become countables with changed meanings; as, Coppers = copper coins; irons = fetters; tins = cans made of tin; woods = forests. A work from S. CHAND & COMPANY LTD.  \\nCHAPTER 8\"),\n",
              " Document(page_content='42. DIALOGUE-WRITING -- 438-447 Introductory Remarks -- 438 Method of Procedure -- 439 Special Hints -- 439 Specimens -- 440 Exercises 155-162 -- 445  \\n43\\\\. THE APPRECIATION OF POETRY -- 447-458 Introductory Remarks -- 447 Specimens -- 454 Exercise 163 -- 456  \\n44\\\\. PARAPHRASING -- 459-470 Introductory Remarks -- 459 Uses of Paraphrasing -- 459 Characteristics of a good Paraphrase -- 459 The Paraphrase of Poetry -- 462 Special Hints -- 464 Method of Procedure -- 464 Specimens -- 466 Exercise 164 -- 467  \\nAPPENDICES -- 471-482 Appendix -1 Differences between British and American English -- 471 Appendix - II General Review of Grammar -- 475  \\nAn authentic and useful solution of this book entitled. \"A Key to Wren and Martin\\'s High School English Grammar and Composition \" is also available,  \\nPage 1  \\nHIGH SCHOOL ENGLISH GRAMMAR  \\nCHAPTER 1 THE SENTENCE 1. When we speak or write we use words. We generally use these words in groups; as,  \\nLittle Jack Homer sat in a corner.  \\nA group of words like this, which makes complete sense, is called a Sentence.  \\nKinds of Sentences 2. Sentences are of four kinds: (1) Those which make statements or assertions; as, Humpty Dumpty sat on a wall. (2) Those which ask questions; as Where do you live?'),\n",
              " Document(page_content='Superlative - Lead is the heaviest of all metals. Comparative - Lead is heavier than all other metals. Comparative - Mahabaleshwar is cooler than Panchgani. Positive - Panchgani is not so cool as Mahabaleshwar. Positive - He is as wise as Solomon.  \\nComparative - Soloman was not wiser than he is. Superlative - Shakuntala is the best drama in Sanskrit. Comparative - Shakuntala is better than any other drama in Sanskrit. Positive - No other drama in Sanskrit is so good as Shakuntala. Superlative - Chennai is one of the biggest of Indian cities. Comparative - Chennai is bigger than most other Indian cities. Positive - Very few Indian cities are as big as Chennai. Positive - Some poets are at least as great as Tennyson. Comparative - Tennyson is not greater than some other poets, I Some poets are not less great than Tennyson.  \\nSuperlative - Tennyson is not the greatest of all poets.'),\n",
              " Document(page_content='<!-- PageHeader=\"met a little cottage girl. He is always playing computer games.\" -->  \\nCHAPTER 12'),\n",
              " Document(page_content='31. QUESTION TAGS, SHORT ANSWERS, ETC. ... 347-351 Exercises 127-130 349  \\n32\\\\. MORE STRUCTURES -- 351-354 Exercise 131 -- 354  \\nPART IV  \\nWRITTEN COMPOSITION 33. PARAGRAPH-WRITING -- 355-358 Introductory Remarks -- 353 Principles -- 355 Examples -- 356 The Writing of Single Paragraphs -- 357 Exercise 132 -- 358  \\n34\\\\. STORY-WRITING -- 359-363 Introductory Remarks -- 359 Hints -- 359 Specimen -- 359 Exercise 133 -- 360  \\n35\\\\. REPRODUCTION OF A STORY-POEM -- 364-367 Introductory Remarks -- 363 Hints -- 363 Specimens -- 363 Exercise 134 -- 366  \\n36\\\\. LETTER-WRITING -- 367-389 Introductory Remarks -- 367 The form of Letters -- 367 Classification of letters -- 370 Social Letters -- 370 Friendly Letters -- 370 Specimens -- 371 Exercise 135 -- 372 Specimens -- 373 Exercise 136 -- 374 Specimens -- 374 Exercises 137-139 -- 375 Specimens -- 376 Exercises 140-141 -- 378 Notes of Invitations -- 379 Specimens -- 379 Business Letters -- 380 Specimens -- 381 Exercise 142 -- 384 Letters of Application -- 384'),\n",
              " Document(page_content='This, these indicate something near to the speaker. That, those indicate more distant objects.'),\n",
              " Document(page_content=\"I have no ulterior motive in offering you help.  \\nThe other seven are used as Comparative Adjectives but are followed by to instead of than (See § 89)  \\n89\\\\. The comparative degree is generally followed by than; but Comparative Adjectives ending in -or are followed by the preposition to; as, Inferior, superior, prior, anterior, posterior, senior, junior.  \\nHari is inferior to Ram in intelligence. Rama's intelligence is superior to Hari's. His marriage was prior to his father's death. He is junior to all his colleagues. All his colleagues are senior to him.  \\n90\\\\. Adjectives expressing qualities that do not admit of different degrees cannot, strictly speaking, be compared; as,  \\nSquare, round, perfect, eternal, universal, unique. Strictly speaking, a thing cannot be more square, more round, more perfect. But we say, for instance, Page 30  \\nExercise in Grammar 15  \\nPoint out the Adjectives and name the Degree of Comparison of each :-  \\n1\\\\. The poor woman had seen happier days.  \\n2\\\\. Do not talk such nonsense.  \\n3\\\\. Make less noise.  \\n4\\\\. That child has a slight cold.  \\n5\\\\. A live ass is stranger than a dead lion.  \\n6\\\\. Say the same thing twice over.  \\n7\\\\. Soloman was one of the wisest men.  \\n8\\\\. Hunger is the best sauce.  \\n9\\\\. His simple word is as good as an oath.  \\n10\\\\. There was not the slightest excuse for it.  \\n11\\\\. My knife is sharper than yours.  \\n12\\\\. Small people love to talk of great men.  \\n13\\\\. Of two evils choose the less.  \\n14\\\\. I hope the matter will be cleared up some day.  \\n15\\\\. Your son makes no progress in his studies.  \\n16\\\\. Open rebuke is better than secret love.  \\n17\\\\. We never had such sport.  \\n18\\\\. I have other things to attend lo.  \\n19\\\\. Hari is the idlest boy in the class.  \\n20\\\\. I promise you a fair hearing.  \\n21\\\\. There is much to be said on both sides.  \\n22\\\\. He gave the boys much wholesome advice.  \\n23\\\\. He thinks he is wiser than his father.  \\n24\\\\. No news is good news.  \\n25\\\\. Bangladesh has the largest tea garden in the world.\"),\n",
              " Document(page_content=\"(2) When the noun is Plural, and ends in s, the Possessive Case is formed by adding only an apostrophe; as,  \\nBoys' school; girls' school; horses' tails.  \\n(3) When the noun is Plural but does not end in s, the Possessive sign is formed by adding 's as,  \\nMen's club; children's books.  \\n56\\\\. When a noun or a title consists of several words, the Posses sive sign is attached only to the last word; as, The King of Bhutan's visit. The Prime Minister of Mauritius's speech.  \\n57\\\\. When two nouns are in apposition, the possessive sign is put to the latter only; as, That is Tagore the poet's house.  \\n58\\\\. Also when two nouns are closely connected, the possessive is put to the latter; as, Karim and Salim's bakery. William and Mary's reign.  \\n59\\\\. Each of two or more connected nouns implying separate possession must take the possessive sign; as,  \\nRaja Rao's and R.K. Narayan's novels. Goldsmith's and Cowper's poems.\"),\n",
              " Document(page_content='24. Another classification of nouns is whether they are \"countable\" or \"uncountable\". Countable nouns (or countables) are the names of objects, people, etc. that we can count, e.g., book, pen, apple, boy, sister, doctor, horse.  \\nUncountable nouns (or uncountables) are the names of things which we cannot count, e.g., milk, oil, sugar, gold, honesty. They mainly denote substances and abstract things.  \\nCountable nouns have plural forms while uncountable nouns do not. For example, we say \"books\" but we cannot say \"milks\".'),\n",
              " Document(page_content='(2) Cruel; (3) Brave;  \\n(4) Foolish.  \\nExercise in Composition 5  \\nForm Abstract Nouns from the following Adjectives: Long, young, humble, decent, cruel, bitter, strong, true, short, prudent, dark, deep, wide, wise, good, vacant, sweet, human, broad, free, proud, brave, novel, quick, high, poor, just, vain, sane, ignorant.  \\nForm Abstract Nouns from the following Verbs: Laugh, obey, live, expect, excel, know, steal. Believe, Serve, Hate,'),\n",
              " Document(page_content='86. The double forms of the Comparative and Superlative of the Adjectives given in § 85 are used in different ways.  \\nLater, latter; latest, last. - Later and latest refer to time; latter and last refer to position.  \\nHe is later than I expected. I have not heard the latest news. The latter chapters are lacking in interest. The last chapter is carelessly written Ours is the last house in the street. Page 28  \\nElder, older; eldest, oldest .- Elder and eldest are used only of persons, not of animals or things; and are now confined to members of the same family. Elder is not used with than following. Older and oldest are used of both persons and things.  \\nJohn is my elder brother. Tom is my eldest son. He is older than his sister. Rama is the oldest boy in the eleven. This is the oldest temple in Kolkata.  \\nFarther, further .- Both farther and further are used to express distance. Further, not farther, is used to mean \"additional\".  \\nKolkata is farther/further from the equator than Colombo. After this he made no further remarks. I must have a reply without further delay.  \\nNearest, next .- Nearest means the shortest distance away. Next refers to one of a sequence of things coming one after the other. Mumbai is the seaport nearest to Europe. Where is the nearest phone box? Karim\\'s shop is next to the Post Office. My uncle lives in the next house.'),\n",
              " Document(page_content='<!-- PageHeader=\"This is a Grammar of the English\" -->  \\n(Adjectives formed from Proper Nouns (e.g., French wines, Turkish tobacco, Indian tea, etc.) are sometimes called Proper Adjectives. They are generally classed with Adjectives of Quality) language.  \\nAdjectives of Quality answer the question : Of what kind ?  \\n70\\\\. Adjectives of Quantity show how much of a thing is meant as,  \\nI ate some rice. He showed much patience. He has little intelligence. We have had enough exercise. He has lost all his wealth. You have no sense. He did not eat any rice. Take great care of your health. He claimed his half share of the booty. There has not been sufficient rain this year. The whole sum was expended.  \\nAdjectives of Quantity answer the question: How much?  \\n71\\\\. Adjectives of Number (or Numeral Adjectives) show how many persons or things are meant, or in what order a person or thing stands; as, The hand has five fingers. Few cats like cold water. There are no pictures in this book. I have taught you many things. All men must die. Here are some ripe mangoes. Most boys like cricket. There are several mistakes in your exercise. Sunday is the first day of the week Page 21  \\n72\\\\. Adjectives of Number (or Numeral Adjectives) are of three kinds :- (i) Definite Numeral Adjectives, which denote an exact number; as, One, two, three, etc. -- These are called Cardinals. First, second, third, etc. -- These are called Ordinals.  \\n[A Cardinal denotes how many, and an Ordinal the order of things in a series. It will be seen that Ordinals really do the work of Demonstrative Adjectives. See 74]  \\n(ii) Indefinite Numeral Adjectives, which do not denote an exact number; as, All, no; many, few; some, any; certain, several, sundry.'),\n",
              " Document(page_content=\"Billiards is my favourite game.  \\n'Means' is used either as singular or plural. But when it has the meaning of 'wealth' it is always plural; as,  \\nHe succeeded by this means (or, by these means) in passing the examination. His means are small, but he has incurred no debt.  \\n38\\\\. Certain Collective Nouns, though singular in form, are always used as plurals; as,  \\nPoultry, cattle, vermin, people, gentry. These poultry are mine. Whose are these cattle? Vermin destroy our property and carry disease. Who are those people (= persons)? There are few gentry in this town.  \\nNote :- As a Common Noun 'people' means a 'nation' and is used in both singular and plural; as, The Japanese are a hard-working people. There are many different peoples in Europe.  \\n39\\\\. A Compound Noun generally forms its plural by adding -s to the principal word; as,  \\nSingular -- Plural  \\nCommander-in-chief -- commanders-in-chief Coat-of-mail -- coats-of-mail Son-in-Law -- sons-in-law Page 13  \\nDaughter-in-law -- daughters-in-law Step-son -- step-sons Step-daughter -- step-daughters Maid-servant -- maid-servants (but man-servant, plural men-servants) Passer-by -- passers-by Looker-on -- lookers-on Man-of-war -- men-of-war.  \\nWe say spoonfuls and handfuls, because spoonful and handful are regarded as one word. Note that the Proper Nouns Brahman and Mussulman are not compounds of man; therefore their plurals are Brahmans and Mussulmans.  \\n40\\\\. Many nouns taken from foreign languages keep their original plural form; as, Form Latin  \\nErratum, errata; -- formula, formulae (or formulas): index, indices; -- memorandum, memoranda; radius, radii; -- terminus, termini (or terminuses).\"),\n",
              " Document(page_content=\"(iii) Distributive Numeral Adjectives, which refer to each one of a number; as., Each boy must take his turn. India expects every man to do his duty. Every word of it is false. Either pen will do. On either side is a narrow lane. Neither accusation is true.  \\n73\\\\. The same Adjective may be classed as of Quantity or Number, according to its use.  \\nAdjectives of Quantity -- Adjectives of Number  \\nI ate some rice. -- Some boys are clever. He has lost all his wealth. -- All men must die. You have no sense. -- There are no pictures in this book. He did not eat any rice. -- Are there any mango-trees in this garden? I have enough sugar. -- There are not enough spoons.  \\n74\\\\. Demonstrative Adjectives point out which person or thing is meant; as,  \\nThis boy is stronger than Hari. That boy is industrious. These mangoes are sour. Those rascals must be punished. Yonder fort once belonged to Shivaji. Don't be in such a hurry. I hate such things.  \\nDemonstrative Adjectives answer the question: Which ? [It will be noticed that this and that are used with Singular nouns and these and those with Plural nouns.]  \\n75\\\\. What, which and whose, when they are used with nouns toask questions, are called Interrogative Adjectives; as, What manner of man is he? Which way shall we go? Whose book is this?  \\n[It will be seen that what is used in a general sense, and which in a selective sense.] Page 22\"),\n",
              " Document(page_content='masculine, and is the only one which we now use in forming a new feminine noun. Page 10  \\nMasculine -- Feminine Hero -- heroine Testator -- testatrix Czar -- czarina Sultan -- sultana Signor -- signora Fox -- vixen  \\n(3) By placing a word before or after; as,  \\nMasculine -- Feminine Grandfather -- grandmother Greatuncle -- greataunt Manservant -- maidservant Landlord -- landlady milkman -- milkwoman peacock -- peahen salesman -- saleswoman washerman -- washerwoman  \\nCHAPTER 7  \\nTHE NOUN: NUMBER  \\n30\\\\. Notice the change of form in the second word of each pair: Tree (Box, Fox, Man) Trees (Boxes, Oxen, Men)  \\nThe first word of each pair denotes one thing, the second word of each pair denotes more than one. A Noun that denotes one person or thing, is said to be in the Singular Number; as, Boy, girl, cow, bird, tree, book, pen.  \\nA Noun that denotes more than one person or thing, is said to be in the Plural Number; as, Boys, girls, cows, birds, trees, books, pens.  \\nThus there are two Numbers in English-the Singular and the Plural. A  \\nwork from S. CHAND & COMPANY LTD.  \\nHow Plurals are Formed 31. (i) The Plural of nouns is generally formed by adding -s to the singular ; as, boy, boys; pen, pens;'),\n",
              " Document(page_content='10. TRANSFORMATION OF SENTENCES -- 215-223 Sentences containing the Adverb \"too\" -- 215 Exercise 59 -- 215 Interchange of the Degrees of Comparison -- 216 Exercise 60 -- 216 Interchange of Active and Passive Voice -- 217 Exercises 61-63 -- 218 Interchange of Affirmative and Negative sentences -- 219 Exercises 64-65 -- 219 Interchange of Interrogative and Assertive sentences -- 220 Exercises 66-67 -- 220 Interchange of Exclamatory and Assertive sentences -- 221 Exercises 68-69 -- 221  \\nPage vi  \\nInterchange of one Part of Speech for another -- 221 Exercise 70 -- 222  \\n11\\\\. TRANSFORMATION OF SENTENCES (Contd.) -- 223-239 Conversion of Simple sentences to Compound (Double) sentences -- 223 Exercises 71-72 -- 223 Conversion of Compound (Double) sentences to Simple sentences -- 224 Exercises 73-74 -- 225 Conversion of Simple sentences to Complex -- 226 Exercises 75-78 -- 227 Conversion of Complex sentences to Simple sentences -- 230 Exercises 79-82 -- 230 Conversion of Compound sentences to Complex -- 235 Exercises 83-84 -- 235 Conversion of Complex sentences to Compound -- 237 Exercises 85-86 -- 237 Exercise 87 (Miscellaneous) -- 239  \\n12\\\\. SYNTHESIS OF SENTENCES -- 240-246 Combination of two or more Simple sentences into a single Simple sentence -- 240 Exercises 88-93 -- 241 Exercise 94 (Miscellaneous) -- 244  \\n13\\\\. SYNTHESIS OF SENTENCES (Contd.) -- 246-248 Combination of two or more Simple sentences into a single Compound sentence -- 246 Exercise 95 -- 247  \\n14\\\\. SYNTHESIS OF SENTENCES (Contd.) -- 249-255 Combination of two or more Simple sentences into a single Complex sentence -- 249 Exercises 96-100 -- 250  \\n15\\\\. THE SEQUENCE OF TENSES -- 255-258'),\n",
              " Document(page_content='33. There are a few nouns that form their plural by adding -en to the singular; as, ox, oxen; child, children.  \\nThe plural offish is fish or fishes. The form fishes is less usual.  \\n34\\\\. Some nouns have the singular and the plural alike; as,  \\nSwine, sheep, deer; cod, trout, salmon; aircraft, spacecraft, series, species. Pair, dozen, score, gross, hundred, thousand (when used after numerals), I bought three dozen oranges.  \\nSome people reach the age of three score and ten. The sari cost me five thousand rupees. Stone, hundredweight. He weighs above nine stone. Twenty hundredweight make one ton.  \\n35\\\\. Some nouns are used only in the plural.  \\n(1) Names of instruments which have two parts forming a kind of pair; as, Bellows, scissors, tongs, pincers, spectacles.  \\nPage 12  \\n(2) Names of certain articles of dress; as, Trousers, drawers, breeches, jeans, tights, shorts, pyjamas.  \\n(3) Certain other nouns; as, Annals, thanks, proceeds (of a sale), tidings, environs, nuptials, obsequies, assets, chatels.  \\n36\\\\. Some nouns originally singular are now generally used in the plural; as, Alms, riches, eaves. Riches do many things.  \\n37\\\\. The following nouns look plural but are in fact singular:  \\n(1) Names of subjects mathematics, physics, electronics, etc.  \\n(2) The word news  \\n(3) Names of some common diseases measles, mumps, rickets  \\n(4) Names of some games billiards, draughts Mathematics is his favourite study. No news is good news. India won by an innings and three runs. Measles is infectious.\\n:unselected: :unselected:'),\n",
              " Document(page_content='9. THE ADJECTIVE -- 19 10. COMPARISON OF ADJECTIVES -- 24  \\n11\\\\. ADJECTIVES USED AS NOUNS -- 33  \\n12\\\\. POSITION OF THE ADJECTIVES -- 34  \\n13\\\\. THE CORRECT USE OF SOME ADJECTIVES -- 34  \\n14\\\\. ARTICLES -- 37  \\n15\\\\. PERSONAL PRONOUNS -- 43  \\n16\\\\. REFLEXIVE AND EMPHATIC PRONOUNS -- 48  \\n17\\\\. DEMONSTRATIVE, INDEFINITE AND DISTRIBUTIVE PRONOUNS -- 49 I8.  \\nRELATIVE PRONOUNS -- 52  \\n19\\\\. INTERROGATIVE PRONOUNS -- 62  \\n20\\\\. THE VERB -- 65  \\n21\\\\. VERBS OF INCOMPLETE PREDICATION -- 68  \\n22\\\\. ACTIVE AND PASSIVE VOICE -- 70  \\n23\\\\. MOOD -- 75  \\n24\\\\. TENSES: INTRODUCTION -- 78  \\n25\\\\. THE USES OF THE PRESENT AND PAST TENSES -- 81  \\n26\\\\. THE FUTURE -- 86  \\n27\\\\. THE VERB: PERSON AND NUMBER -- 88  \\n28\\\\. THE INFINITIVE -- 90  \\n29\\\\. THE PARTICIPLE -- 93  \\n30\\\\. THE GERUND -- 99  \\n31\\\\. IRREGULAR VERBS -- 102  \\n32\\\\. AUXILIARIES AND MODALS -- 109  \\n33\\\\. CONJUGATION OF THE VERB LOVE -- 115  \\n34\\\\. THE ADVERB -- 118  \\n35\\\\. COMPARISON OF ADVERBS -- 123  \\n36\\\\. FORMATION OF ADVEBS -- 124  \\n37\\\\. POSITION OF ADVERBS -- 125  \\n38\\\\. THE PREPOSITION -- 127  \\n39\\\\. WORDS FOLLOWED BY PREPOSITIONS -- 136  \\n40\\\\. THE CONJUNCTION -- 149  \\n41\\\\. SOME CONJUNCTIONS AND THEIR USES -- 157  \\n42\\\\. THE INTERJECTION -- 163  \\n43\\\\. THE SAME WORD USED AS DIFFERENT PARTS OF SPEECH -- 163  \\nBOOK II. COMPOSITION  \\nPARTI  \\nANALYSIS, TRANSFORMATION AND SYNTHESIS 1. ANALYSIS OF SIMPLE SENTENCES -- 169-178 Exercise 1-7 -- 170 Page v  \\n2\\\\. PHRASES -- 179-185 Adjective Phrases -- 179 Exercises 8-12 -- 179'),\n",
              " Document(page_content='Exercise in Composition 7  \\nSupply suitable Adjectives :-  \\n1\\\\. The town stood a --- siege.  \\n2\\\\. The --- prize was won by a Hindu.  \\n3\\\\. The --- woman lives in a wretched hut.  \\n4\\\\. This is a very --- matter.  \\n5\\\\. The battle of Waterloo ended in a --- victory.  \\n6\\\\. Suddenly there arose a --- storm.  \\n7\\\\. It is a --- lie.  \\n8\\\\. The --- tidings were a heavy blow to the old man.  \\n9\\\\. Here is a rupee: pay the fare and keep the --- money.  \\n10\\\\. His reading is of a very --- range.  \\n11\\\\. The injured man wants --- advice.  \\n12\\\\. You cannot have it --- ways.  \\n13\\\\. India expects --- man to do his duty.  \\n14\\\\. The --- bird catches the worm. 15. Have you any --- reason to give?  \\n16\\\\. --- anxiety has undermined his health.  \\n17\\\\. There were riots in --- places.  \\n18\\\\. An --- man will not reason calmly.  \\n19\\\\. He stands --- feet in his stockings.  \\n20\\\\. Nelson won for himself --- fame.  \\n21\\\\. I have no --- cash.  \\n22\\\\. He always walks with a --- step.  \\n23\\\\. --- errors are not easily corrected.  \\n24\\\\. Every cloud has a --- lining.  \\n25\\\\. He was a man of --- ambition.  \\n26\\\\. He was listened to in --- silence.'),\n",
              " Document(page_content='26. Lead is heavier than any other metal.  \\n27\\\\. I congratulated him on his good fortune.  \\n28\\\\. He has many powerful friends.  \\n29\\\\. The longest lane has a turning.'),\n",
              " Document(page_content='Fine -- finer -- finest White -- whiter -- whitest Large -- larger -- largest Able -- abler -- ablest Noble -- nobler -- noblest Wise -- wiser -- wisest  \\nWhen the Positive ends in j, preceded by a consonant, the y is changed into i before adding er and est. Happy -- happier -- happiest Easy -- easier -- easiest Heavy -- heavier -- heaviest Merry -- merrier -- merriest Wealthy -- wealthier -- wealthiest  \\nWhen the Positive is a word of one syllable and ends in a single consonant, preceded by a short vowel, this consonant is doubled before adding er and est.  \\nRed -- redder -- reddest Big -- bigger -- biggest Hot -- hotter -- hottest Thin -- thinner -- thinnest Sad -- sadder -- saddest Fat -- fatter -- fattest  \\n82\\\\. Adjectives of more than two syllables form the Comparative and Superlative by putting more and most before the Positive.  \\nPositive -- Comparative -- Superlative  \\nBeautiful -- more beautiful -- most beautiful Difficult -- more difficult -- most difficult Industrious -- more industrious -- most industrious Courageous -- more courageous -- most courageous Two-syllable adjectives ending infill (e.g. useful), less (e.g. hope less), ing (e.g. boring) and ed (e.g. surprised) and many others (e.g. modern, recent, foolish, famous, certain) take more and most.  \\nThe following take either er and est or more and most. : polite simple feeble gentle narrow cruel common handsome pleasant stupid  \\nShe is politer/more polite than her sister.'),\n",
              " Document(page_content='<!-- PageHeader=\"6. It weights about a pound. Page 5\" -->  \\n7\\\\. He told us all about the battle.  \\n8\\\\. He was only a yard off me.  \\n9\\\\. Suddenly one of the wheels came off.  \\n10\\\\. Mohammedans fast in the month of Ramzan.  \\n11\\\\. He kept the fast for a week.  \\n12\\\\. He is on the committee.  \\n13\\\\. Let us move on.  \\n14\\\\. Sit down and rest a while.  \\n15\\\\. I will watch while you sleep.  \\n16\\\\. They while away their evenings with books and games.  \\nA work from S. CHAND & COMPANY LTD.'),\n",
              " Document(page_content='6. Say the same thing twice over.  \\n7\\\\. Several persons were present at the time,  \\n8\\\\. He is a man of few words.  \\n9\\\\. Neither party is quite in the right.  \\n10\\\\. What time is if?  \\n11\\\\. Which pen do you prefer?  \\n12\\\\. The way was long, the wind was cold, the minstrel was infirm and old.  \\n13\\\\. He comes here every day.  \\n14\\\\. I have not seen him for several days.  \\n15\\\\. There should not be much talk and little work.  \\n16\\\\. Abdul won the second prize.  \\n17\\\\. The child fell down from a great height.  \\n18\\\\. He was absent last week.  \\n19\\\\. He died a glorious death.  \\n20\\\\. A small leak may sink a great ship.  \\n21\\\\. Good wine needs no bush.  \\n22\\\\. I like the little pedlar who has a crooked nose.  \\n23\\\\. King Francis was a hearty King and loved a royal sport.  \\n24\\\\. In the furrowed land the toilsome patient oxen stand.  \\n25\\\\. My uncle lives in the next house.  \\n26\\\\. Some dreams are like reality.  \\n27\\\\. A cross child is not liked.  \\n28\\\\. It is an ill wind that blows nobody any good.  \\n76\\\\. In the following sentences the words own and very are used as Emphasizing Adjectives :-  \\nI saw it with my own eyes. He was beaten at his own game. Mind your own business. He is his own master. That is the very thing we want.  \\n\"When all else left my cause. My very adversary took my part\".  \\n77\\\\. The word what is sometimes used as an Exclamatory Adjective; as.  \\nWhat genius! What folly! What an idea! What a blessing! What a piece of work is man!  \\n78\\\\. As already pointed out (§ 74) this and that are the only Adjectives which are inflected or changed in form to show number.  \\nThis girl sings. These girls sing. That boy plays. Those boys play.'),\n",
              " Document(page_content=\"(c) Fill the blank spaces with 'oldest' and 'eldest' :-  \\n1\\\\. Rustam is the --- of my uncle's five sons.  \\n2\\\\. He is the --- member of the School Committee.  \\n3\\\\. That is Antonio, the duke's --- son.  \\n4\\\\. The --- mosque in the town is near the railway station.  \\n5\\\\. Mr. Smith is the --- teacher in the school.  \\n(d) Fill the blank spaces with 'farther' or 'further' :-  \\n1\\\\. I can't walk any ---.  \\n2\\\\. No --- reasons were given.  \\n3\\\\. He walked off without --- ceremony.  \\n4\\\\. Until --- orders Mr. K.S. Dave will act as Headmaster of Nira High School. 5. To let, a bungalow at Ridge Road. For --- particulars apply to Box. No. 65. Page 29  \\n(e) Fill the blank spaces with 'latest' or 'last' :-  \\n1\\\\. The --- news from China is very disquieting.  \\n2\\\\. The --- time I saw him, he was in high spirits.  \\n3\\\\. To-day is the --- day for receiving lenders.  \\n4\\\\. We expect to get the --- news in a few hours.  \\n5\\\\. The --- Moghul Emperor came to an ignominious end.  \\n(j) Fill the blank spaces with 'nearest' or 'next' :-  \\n1\\\\. This is the --- post office to my house.  \\n2\\\\. The pillar-box is --- to my house.  \\n3\\\\. The burglar was taken to the --- police station.  \\n4\\\\. His house is --- to mine.  \\n5\\\\. The --- railway station is two miles from here.  \\n87\\\\. Certain English Comparatives have lost their comparative meaning and are used as Positive. They cannot be followed by than. These are :- Former, latter, elder, upper, inner, outer, utter.  \\nBoth the tiger and (he leopard are cats; the former animal is much larger than the latter.  \\nThe inner meaning of this letter is not clear. The soldiers ran to defend the outer wall. My elder brother is an engineer. This man is an utter fool.  \\n88\\\\. Certain Comparatives borrowed from Latin have no Positive or Superlative degree. They all end in or, not er. They are twelve in all. Five of them have lost their Comparative meaning, and are used as Positive Adjectives. These are :- Interior, exterior, ulterior, major, minor.  \\nThe exterior wall of the house is made of stone; the interior walls are of wood.  \\nHis age is a matter of minor importance.\"),\n",
              " Document(page_content=\"He is the politest/most polite of them.  \\nA work from S CHAND & COMPANY LTD  \\n83\\\\. The-Comparative-in er is not used when we compare two qualities in the same person or thing. If we wish to say that the courage of Rama is greater than the courage of Balu, we say  \\nPage 27  \\nRama is braver than Balu.  \\nBut if we wish to say that the courage of Rama is greater than his prudence, we must say, Rama is more brave than prudent.  \\n84\\\\. When two objects are compared with each other, the latter term of comparison must exclude the former; as, Iron is more useful than any other metal. If we say, Iron is more useful than any metal,  \\nthat is the same thing as saying 'Iron is more useful than iron' since iron is itself a metal.\"),\n",
              " Document(page_content='Such a group of words which forms part of a sentence, and contains a Subject and a Predicate, is called a Clause.  \\nIn the following sentences, the groups of words in italics are Clauses: People who pay their debts are trusted.  \\nWe cannot start while it is raining. I think that, you have made a mistake.'),\n",
              " Document(page_content='NEW EDITION HIGH SCHOOL  \\nEnglish Grammar & Composition\\n===  \\nBY  \\nWREN & MARTIN  \\n(With New Appendices)  \\nREVISED BY  \\nN.D.V. PRASADA RAO  \\nS. CHAND  \\nPage i  \\nNew Edition'),\n",
              " Document(page_content=\"The Adjective sweeter is said to be in the Comparative Degree. The Adjective sweetest is said to be in the Superlative Degree.  \\nThe Positive Degree of an Adjective is the Adjective in its simple form. It is used to denote the mere existence of some quality of what we speak about. It is used when no comparison is made.  \\nThe Comparative Degree of an Adjective denotes a higher degree of the quality than the Positive, and is used when two things (or sets of things) are compared; as, This boy is stronger than that. Which of these two pens is the better? Apples are dearer than oranges.  \\nThe Superlative Degree of an Adjective denotes the highest degree of the quality, and is used when more than two things (or sets of things) are compared; as, This boy is the strongest in the class.  \\nNote 1 :- There is another way in which we can compare things. Instead of saying 'Rama is stronger than Balu we can say 'Balu is less strong than Rama'. Instead of saying 'Hari is the laziest boy in the class', we can say 'Hari is the least industrious boy in the class7.  \\nNote 2 :- The Superlative with most is sometimes used where there is no idea of comparison, but merely a desire to indicate the possession of a quality in a very high degree; as,  \\nThis is most unfortunate. It was a most eloquent speech. Truly, a most ingenious device!  \\nThis usage has been called the Superlative of Eminence, or the Absolute Superlative. Formation of Comparative and Superlative  \\n81\\\\. Most Adjectives of one syllable, and some of more than one, form the Comparative by adding er and the Superlative by adding est to the positive.  \\nPage 26  \\nPositive -- Comparative -- Superlative  \\nSweet -- sweeter -- sweetest Small -- smaller -- smallest Tall -- taller -- tallest Bold -- bolder -- boldest Clever -- cleverer -- cleverest Kind -- kinder -- kindest Young -- younger -- youngest Great -- greater -- greatest  \\nWhen the Positive ends in e, only r and st are added. Brave -- braver -- bravest\"),\n",
              " Document(page_content=\"hospital, the atre; etc.) as,  \\nShe has gone to the baker's ( = baker's shop). Tonight I am dining at my uncle's ( = uncle's house). Can you tell me the way to St .Paul's ( ='St. Paul's church)? I attend the Town High School but my cousin attends St. Xavier's. He was educated ai St. Joseph's.  \\n65\\\\. When you are in doubt whether to use a noun in the possessive case or with the preposition of, remember that, as a general rule, the possessive case is used to denote possession or ownership. Thus it is better to say 'the defeat of the enemy' than 'the enemy's defeat', even though no doubt as to the meaning would arise.  \\nSometimes, however, a noun in the possessive case has a different meaning from a noun used with the preposition of; as,  \\n'The Prime Minister's reception in Delhi' means a reception held by the Prime Minister in Delhi.  \\n'The reception of the Prime Minister in Delhi' means the manner in which the people welcomed him when he entered Delhi. The phrase 'the love of a father' may mean either 'a father's love of his child' or 'a child's love of his father'.\"),\n",
              " Document(page_content='(3) Those which express commands, requests, or entreaties; as, Be quiet. Have mercy upon us.  \\n(4) Those which express strong feelings; as,  \\nHow cold the night is! What a shame!  \\nA sentence that makes a statement or assertion is called a Declarative or Assertive sentence.  \\nA sentence that asks a question is called an Interrogative sentence. A sentence that  \\nexpresses a command or an entreaty is called an Imperative sentence. A sentence that  \\nexpresses strong feeling is called an Exclamatory sentence. CHAPTER 2'),\n",
              " Document(page_content='1. Prevention is --- than cure.  \\n2\\\\. Akbar had a --- region than Babar.  \\n3\\\\. Sachin Tendulkar is the --- batsman in the world.  \\n4\\\\. The pen is --- than the sword.  \\n5\\\\. The --- buildings are found in America.  \\n6\\\\. The Pacific is --- than any other ocean.  \\n7\\\\. Which of the two girls has the --- dress?  \\n8\\\\. Honour is --- to him than life.  \\n9\\\\. This pen is --- than the other.  \\n10\\\\. Who is the --- boy in the class ?  \\n11\\\\. The Eiffel Tower is --- than Qutab Minar.  \\n12\\\\. My uncle is --- than my father.  \\n13\\\\. The multi-millionaire Mr. Sen is the --- in this town.  \\n14\\\\. Wordsworth is a --- poet than Cowper.  \\n15\\\\. Balu is the --- bowler in the eleven.  \\n16\\\\. The streets of Mumbai are --- than those of Ahmedabad.  \\n17\\\\. Ooty is --- than Chennai.  \\n18\\\\. The piano was knocked down to the --- bidder.  \\n19\\\\. Mount Everest is the --- peak of the Himalayas.  \\n20\\\\. He writes a --- hand than his brother.  \\n21\\\\. He writes the --- hand in his class.  \\n22\\\\. He is one of the --- speakers in Punjab.  \\n23\\\\. Who was the --- general, Alexander or Caesar?  \\n24\\\\. The --- fables are those attributed to j45sop.  \\n25\\\\. The Arabian Nights is perhaps the --- story-book,  \\n26\\\\. Shakespeare is --- than any other English poet.  \\n27\\\\. Of all countries, China has the --- population in the world. 28. Clouds float in the sky because they are --- than the air. 29. There are two ways of doing the sum, but this one is the ---. 30. It is good to be clever, but it is --- to be industrious. 31. This is the --- of my two sons. 32. This is the --- that I can do?  \\nPage 32'),\n",
              " Document(page_content='He was the Lukman (= the wisest man) of his age.  \\n2\\\\. Kalidas is often called the Shakespeare (= the greatest dramatist) of India.  \\nCommon Nouns include what are called Collective Nouns and Abstract Nouns  \\nPage 6  \\n21\\\\. A Collective Noun is the name of a number (or collection) of persons or things taken together and spoken of as one whole; as,  \\nCrowd, mob, team, flock, herd, army, fleet, jury, family, nation, parliament, committee.  \\nA fleet = a collection of ships or vessels. An army = a collection of soldiers. A crowd = a collection of people. The police dispersed the crowd. The French army was defeated at Waterloo. The jury found the prisoner guilty. A herd of cattle is passing.  \\n22\\\\. An Abstract Noun is usually the name of a quality, action, or state considered apart from the object to which it belongs; as.  \\nQuality - Goodness, kindness, whiteness, darkness, hardness, brightness, honesty, wisdom, bravery.  \\nAction - Laughter, theft, movement, judgment, hatred. State - Childhood, boyhood, youth, slavery, sleep, sickness, death, poverty.  \\nThe names of the Arts and Science (e.g., grammar, music, chemistry, etc.) are also Abstract Nouns.  \\n[We can speak of a brave soldier, a strong man, a beautiful flower. But we can also think of these qualities apart from any particular person or thing, and speak of bravery, strength, beauty by themselves. So also we can speak of what persons do or feel apart from the persons themselves, and give it a name. The word abstract means drawn off.]  \\n23\\\\. Abstract Nouns are formed:  \\n(1) From Adjectives; as,  \\nKindness from kind; honesty from honest.  \\n[Most abstract nouns are formed thus.]  \\n(2) From Verbs: as, Obedience from obey; growth from grow.  \\n(3) From Common Nouns; as, Childhood from child; slavery from slave.'),\n",
              " Document(page_content='From Greek  \\nAxis, axes; -- parenthesis, parentheses;  \\ncrisis, crises; -- hypothesis, hypotheses; basis, bases; -- phenomenon, phenomena; analysis, analyses; -- criterion, criteria.  \\nFrom Italian Bandit, banditti, (or bandits)  \\nFrom French Madame (madam), mesdames; monsieur, messieurs.  \\nFrom Hebrew Cherub, cherubim (or cherubs); seraph, seraphim (or seraphs).  \\n41\\\\. Some nouns have two forms for the plural, each with a some what different meaning.'),\n",
              " Document(page_content='THE NOUN: CASE\\n===  \\n48\\\\. Examine these sentences :-  \\n1\\\\. John threw a stone.  \\n2\\\\. The horse kicked the boy.  \\nIn sentence 1, the noun John is the Subject. It is the answer to the question, \"Who threw a stone?\"  \\nThe group of words threw a stone is the Predicate.  \\nThe Predicate contains the verb threw.  \\nWhat did John throw ?- A stone. Stone is the object which John threw. The noun stone is therefore called the Object.  \\nIn sentence 2, the noun horse is the Subject. It is the answer to the question, \\'Who kicked the boy?\"  \\nThe noun boy is the Object. It is the answer to the question, \\'Whom did the horse kick?\"  \\n49\\\\. When a noun (or pronoun) is used as the Subject of a verb, it is said to be in the Nominative Case.  \\nPage 16  \\nWhen a noun (or pronoun) is used as the Object of a verb, it is said to be in the Objective (or Accusative) Case.  \\nNote-To find the Nominative, put Who? or What? before the verb.  \\nTo find the Accusative put, Whom? or What? before the verb and its subject.  \\n50\\\\. A noun which comes after a preposition is also said to be in the Accusative Case; as, The book is in the desk.  \\nThe noun desk is in the Accusative Case, governed by the preposition in.  \\n51\\\\. Read the following sentences :- Hari broke the window. (Object)  \\nThe window was broken. (Subject)  \\nIt will be seen that Nouns in English have the same form for the Nominative and the Accusative.  \\nThe Nominative generally comes before the verb, and the Accusative after the verb. Hence they are distinguished by the order of words, or by the sense.  \\n52\\\\. Compare :-  \\n1\\\\. Rama gave a ball.  \\n2\\\\. Rama gave Hari a ball.  \\nIn each of these sentences the noun ball is the Object of gave.'),\n",
              " Document(page_content=\"In the second sentence we are told that Hari was the person to whom Rama gave a ball. The noun Hari is called the Indirect Object of the verb gave. The noun ball, the ordinary Object, is called the Direct Object. It will be noticed that the position of the Indirect Object is immediately after the verb and before the Direct Object.  \\nNote: Rama gave Hari a ball = Rama gave a ball to Hari. Will you do me a favour? = Will you do a favour to me? I bought Rama a ball = I bought a ball for Rama. Fetch the boy a book = Fetch a book for the boy. She made Ruth a new dress = She made a new dress for Ruth. Get me a taxi = Get a taxi for me.  \\nWe see that the Indirect Object of a verb denotes the person to whom something is given, or for whom something is done. 53. Examine the sentence :- This is Ram's umbrella. Ram's umbrella = the umbrella belonging to Rama.  \\nThe form of the noun Rama is changed to Rama's to show ownership of possession. The Noun Rama's is therefore said to be in the possessive (or Genitive) Case Page 17  \\nThe Possessive answers the question, 'Whose?' Whose umbrella? - Rama's.  \\n54\\\\. The Possessive Case does not always denote possession. It is used to denote authorship, origin, kind, etc. as,  \\nShakespeare's plays = the plays written by Shakespeare. A mother's love = the love felt by a mother. The President's speech = the speech delivered by the President. Mr. Aggarwal's house = the house where Mr. Aggarwal lives. Ashok's school = the school where Ashok goes. A children's playground = a playground for children. A week's holiday = a holiday which lasts a week.\"),\n",
              " Document(page_content='Specimens -- 389 Exercise 143 -- 385 Official Letters -- 385 Specimens -- 385 Exercise 144 -- 386 Letters to Newspapers -- 386 Specimens -- 386 Exercise 145 -- 387 Specimens -- 387 Exercise 146 -- 388 Page viii  \\n37\\\\. COMPREHENSION -- 389-403 Introductory Remarks -- 389 Specimen -- 389 Exercise 147 -- 390  \\n38\\\\. PRECIS-WRITING -- 404-420 Introductory Remarks -- 404 Uses of Precis-Writing -- 404 Method of procedure -- 405 To Sum up -- 408 Specimens -- 408 Exercise 148 -- 409  \\n39\\\\. EXPANSION OF PASSAGES -- 420-423 Introductory Remarks -- 420 Method of procedure -- 420 Specimens -- 421 Exercise 149 -- 422  \\n40\\\\. ESSAY-WRITING -- 423-436 Introductory Remarks -- 423 Characteristics of a good School Essay -- 424 Classification of Essays -- 425 Hints on Essay-writing -- 426 Method of Collecting Materials -- 427 Bare Outline -- 429 Full Outline -- 430 Writing the Essay -- 430 Specimens -- 432 Exercises 150-151 -- 435  \\n41\\\\. AUTOBIOGRAPHIES -- 436-438 Introductory Remarks -- 436 Specimens -- 436 Exercises 152-154 -- 437'),\n",
              " Document(page_content='girl, girls; desk, desks; book, books; cow, COWS.  \\n(ii) But Nouns ending in -s, -sh, -ch (soft), or -x form the plural by adding -es to the singular; as, class, classes; kiss, kisses; dish, dishes; brush, brushes; match, matches; watch, watches; branch, branches; tax, taxes; box, boxes.  \\n(iii) Most Nouns ending in -o also form the plural by adding -es to the singular ; as, buffalo, buffaloes; mango, mangoes; hero, heroes; potato, potatoes; cargo, cargoes, echo, echoes; negro, negroes; volcano, valcanoes.  \\n(iv) A few nouns ending in -o merely add -s; as,  \\nPage 11  \\ndynamo, dynamos; solo, solos; ratio, ratios; canto, cantos; memento, mementos; quarto, quartos; piano, pianos; photo, photos; stereo, siereos. kilo, kilos; logo, logos; commando, commandos  \\n(v) Nouns ending in -y, preceded by a consonant, form their plural by changing -y into -i and adding -es; as,  \\nbaby, babies;\\n:selected:'),\n",
              " Document(page_content='27. Ooty is as healthy as any resort in India. 28. The pen is mightier than the sword.  \\nCHAPTER 11\\n==='),\n",
              " Document(page_content='6. Miss Kitty was rude at the table one day  \\n7\\\\. He has a good memory.  \\n8\\\\. Bad habits grow unconsciously.  \\n9\\\\. The earth revolves round the sun.  \\n10\\\\. Nature is the best physician.  \\n11\\\\. Edison invented the phonograph.  \\n12\\\\. The sea hath many thousand sands.  \\n13\\\\. We cannot pump the ocean dry.  \\n14\\\\. Borrowed garments never fit well.  \\n15\\\\. The early bird catches the worm.  \\n16\\\\. All matter is indestructible.  \\n17\\\\. Islamabad is the capital of Pakistan.  \\n18\\\\. We should profit by experience.  \\n19\\\\. All roads lead to Rome.  \\n20\\\\. A guilty conscience needs no excuse.  \\n21\\\\. The beautiful rainbow soon faded away.  \\n22\\\\. No man can serve two masters.  \\n23\\\\. A sick room should be well aired.  \\n24\\\\. The dewdrops glitter in the sunshine.  \\n25\\\\. I shot an arrow into the air.  \\n26\\\\. A barking sound the shepherd hears.  \\n27\\\\. On the top of the hill lives a hermit.'),\n",
              " Document(page_content='lady, ladies; city, cities; army, armies; story, stories; pony, ponies.  \\n(vi) The following nouns ending in -f or -fe form their plural by changing -for -fe into v and adding -es ; as,  \\nthief, thieves; wife, wives; wolf, wolves; life, lives; calf, calves; leaf, leaves; loaf, loaves; knife, knives; shelf, shelves, half, halves; elf, elves; self, selves; sheaf, sheaves.  \\nThe nouns dwarf, hoof, scarf and wharf take either -s or -ves in the plural.  \\ndwarfs or dwarves; hoofs or hooves; scarfs or scarves; wharfs or wharves  \\nOther words ending in -for -fe add -s; as,  \\nchief, chiefs; safe, safes; proof, proofs gulf, gulfs; cliff, cliffs; handkerchief, handkerchiefs  \\n32\\\\. A few nouns form their plural by changing the inside vowel of the singlar; as, man, men; woman, women; foot, feet; tooth, teeth; goose, geese; mouse, mice; louse, lice.')]"
            ]
          },
          "metadata": {},
          "execution_count": 11
        }
      ]
    },
    {
      "cell_type": "code",
      "source": [
        "# len(chunked_data)\n",
        "# chunks = []\n",
        "# for c in chunked_data:\n",
        "#   for sc in c:\n",
        "#     chunks.append(sc)\n",
        "# len(chunks)"
      ],
      "metadata": {
        "colab": {
          "base_uri": "https://localhost:8080/"
        },
        "id": "uj604HATXKR9",
        "outputId": "ca268134-33f4-46b1-e1d1-175c2d704450"
      },
      "execution_count": null,
      "outputs": [
        {
          "output_type": "execute_result",
          "data": {
            "text/plain": [
              "150"
            ]
          },
          "metadata": {},
          "execution_count": 16
        }
      ]
    },
    {
      "cell_type": "markdown",
      "source": [
        "# Langchain"
      ],
      "metadata": {
        "id": "aTNDhyVwdFf5"
      }
    },
    {
      "cell_type": "code",
      "source": [
        "%pip install --upgrade --quiet  langchain langchain-openai faiss-cpu tiktoken\n",
        "%pip install azure-storage-blob"
      ],
      "metadata": {
        "id": "1Fo7RaEjjt9u",
        "colab": {
          "base_uri": "https://localhost:8080/"
        },
        "outputId": "e6017e3d-c026-41fe-c006-3c892c678f52"
      },
      "execution_count": null,
      "outputs": [
        {
          "output_type": "stream",
          "name": "stdout",
          "text": [
            "\u001b[2K     \u001b[90m━━━━━━━━━━━━━━━━━━━━━━━━━━━━━━━━━━━━━━━━\u001b[0m \u001b[32m817.7/817.7 kB\u001b[0m \u001b[31m11.3 MB/s\u001b[0m eta \u001b[36m0:00:00\u001b[0m\n",
            "\u001b[2K     \u001b[90m━━━━━━━━━━━━━━━━━━━━━━━━━━━━━━━━━━━━━━━━\u001b[0m \u001b[32m27.0/27.0 MB\u001b[0m \u001b[31m42.8 MB/s\u001b[0m eta \u001b[36m0:00:00\u001b[0m\n",
            "\u001b[2K     \u001b[90m━━━━━━━━━━━━━━━━━━━━━━━━━━━━━━━━━━━━━━━━\u001b[0m \u001b[32m1.8/1.8 MB\u001b[0m \u001b[31m70.1 MB/s\u001b[0m eta \u001b[36m0:00:00\u001b[0m\n",
            "\u001b[2K     \u001b[90m━━━━━━━━━━━━━━━━━━━━━━━━━━━━━━━━━━━━━━━━\u001b[0m \u001b[32m1.9/1.9 MB\u001b[0m \u001b[31m80.1 MB/s\u001b[0m eta \u001b[36m0:00:00\u001b[0m\n",
            "\u001b[2K     \u001b[90m━━━━━━━━━━━━━━━━━━━━━━━━━━━━━━━━━━━━━━━━\u001b[0m \u001b[32m289.1/289.1 kB\u001b[0m \u001b[31m29.4 MB/s\u001b[0m eta \u001b[36m0:00:00\u001b[0m\n",
            "\u001b[2K     \u001b[90m━━━━━━━━━━━━━━━━━━━━━━━━━━━━━━━━━━━━━━━━\u001b[0m \u001b[32m113.7/113.7 kB\u001b[0m \u001b[31m12.7 MB/s\u001b[0m eta \u001b[36m0:00:00\u001b[0m\n",
            "\u001b[2K     \u001b[90m━━━━━━━━━━━━━━━━━━━━━━━━━━━━━━━━━━━━━━━━\u001b[0m \u001b[32m292.8/292.8 kB\u001b[0m \u001b[31m32.1 MB/s\u001b[0m eta \u001b[36m0:00:00\u001b[0m\n",
            "\u001b[2K     \u001b[90m━━━━━━━━━━━━━━━━━━━━━━━━━━━━━━━━━━━━━━━━\u001b[0m \u001b[32m49.4/49.4 kB\u001b[0m \u001b[31m5.7 MB/s\u001b[0m eta \u001b[36m0:00:00\u001b[0m\n",
            "\u001b[2K     \u001b[90m━━━━━━━━━━━━━━━━━━━━━━━━━━━━━━━━━━━━━━━━\u001b[0m \u001b[32m53.0/53.0 kB\u001b[0m \u001b[31m6.3 MB/s\u001b[0m eta \u001b[36m0:00:00\u001b[0m\n",
            "\u001b[2K     \u001b[90m━━━━━━━━━━━━━━━━━━━━━━━━━━━━━━━━━━━━━━━━\u001b[0m \u001b[32m141.1/141.1 kB\u001b[0m \u001b[31m17.3 MB/s\u001b[0m eta \u001b[36m0:00:00\u001b[0m\n",
            "\u001b[2K     \u001b[90m━━━━━━━━━━━━━━━━━━━━━━━━━━━━━━━━━━━━━━━━\u001b[0m \u001b[32m75.6/75.6 kB\u001b[0m \u001b[31m10.4 MB/s\u001b[0m eta \u001b[36m0:00:00\u001b[0m\n",
            "\u001b[2K     \u001b[90m━━━━━━━━━━━━━━━━━━━━━━━━━━━━━━━━━━━━━━━━\u001b[0m \u001b[32m77.9/77.9 kB\u001b[0m \u001b[31m8.6 MB/s\u001b[0m eta \u001b[36m0:00:00\u001b[0m\n",
            "\u001b[2K     \u001b[90m━━━━━━━━━━━━━━━━━━━━━━━━━━━━━━━━━━━━━━━━\u001b[0m \u001b[32m58.3/58.3 kB\u001b[0m \u001b[31m6.8 MB/s\u001b[0m eta \u001b[36m0:00:00\u001b[0m\n",
            "\u001b[?25hCollecting azure-storage-blob\n",
            "  Downloading azure_storage_blob-12.19.1-py3-none-any.whl (394 kB)\n",
            "\u001b[2K     \u001b[90m━━━━━━━━━━━━━━━━━━━━━━━━━━━━━━━━━━━━━━━━\u001b[0m \u001b[32m394.5/394.5 kB\u001b[0m \u001b[31m8.4 MB/s\u001b[0m eta \u001b[36m0:00:00\u001b[0m\n",
            "\u001b[?25hCollecting azure-core<2.0.0,>=1.28.0 (from azure-storage-blob)\n",
            "  Downloading azure_core-1.30.1-py3-none-any.whl (193 kB)\n",
            "\u001b[2K     \u001b[90m━━━━━━━━━━━━━━━━━━━━━━━━━━━━━━━━━━━━━━━━\u001b[0m \u001b[32m193.4/193.4 kB\u001b[0m \u001b[31m25.5 MB/s\u001b[0m eta \u001b[36m0:00:00\u001b[0m\n",
            "\u001b[?25hRequirement already satisfied: cryptography>=2.1.4 in /usr/local/lib/python3.10/dist-packages (from azure-storage-blob) (42.0.5)\n",
            "Requirement already satisfied: typing-extensions>=4.3.0 in /usr/local/lib/python3.10/dist-packages (from azure-storage-blob) (4.11.0)\n",
            "Collecting isodate>=0.6.1 (from azure-storage-blob)\n",
            "  Downloading isodate-0.6.1-py2.py3-none-any.whl (41 kB)\n",
            "\u001b[2K     \u001b[90m━━━━━━━━━━━━━━━━━━━━━━━━━━━━━━━━━━━━━━━━\u001b[0m \u001b[32m41.7/41.7 kB\u001b[0m \u001b[31m4.6 MB/s\u001b[0m eta \u001b[36m0:00:00\u001b[0m\n",
            "\u001b[?25hRequirement already satisfied: requests>=2.21.0 in /usr/local/lib/python3.10/dist-packages (from azure-core<2.0.0,>=1.28.0->azure-storage-blob) (2.31.0)\n",
            "Requirement already satisfied: six>=1.11.0 in /usr/local/lib/python3.10/dist-packages (from azure-core<2.0.0,>=1.28.0->azure-storage-blob) (1.16.0)\n",
            "Requirement already satisfied: cffi>=1.12 in /usr/local/lib/python3.10/dist-packages (from cryptography>=2.1.4->azure-storage-blob) (1.16.0)\n",
            "Requirement already satisfied: pycparser in /usr/local/lib/python3.10/dist-packages (from cffi>=1.12->cryptography>=2.1.4->azure-storage-blob) (2.22)\n",
            "Requirement already satisfied: charset-normalizer<4,>=2 in /usr/local/lib/python3.10/dist-packages (from requests>=2.21.0->azure-core<2.0.0,>=1.28.0->azure-storage-blob) (3.3.2)\n",
            "Requirement already satisfied: idna<4,>=2.5 in /usr/local/lib/python3.10/dist-packages (from requests>=2.21.0->azure-core<2.0.0,>=1.28.0->azure-storage-blob) (3.6)\n",
            "Requirement already satisfied: urllib3<3,>=1.21.1 in /usr/local/lib/python3.10/dist-packages (from requests>=2.21.0->azure-core<2.0.0,>=1.28.0->azure-storage-blob) (2.0.7)\n",
            "Requirement already satisfied: certifi>=2017.4.17 in /usr/local/lib/python3.10/dist-packages (from requests>=2.21.0->azure-core<2.0.0,>=1.28.0->azure-storage-blob) (2024.2.2)\n",
            "Installing collected packages: isodate, azure-core, azure-storage-blob\n",
            "Successfully installed azure-core-1.30.1 azure-storage-blob-12.19.1 isodate-0.6.1\n"
          ]
        }
      ]
    },
    {
      "cell_type": "code",
      "source": [
        "from google.colab import userdata\n",
        "from operator import itemgetter\n",
        "import os, pickle\n",
        "from pprint import pprint\n",
        "from langchain_community.vectorstores import FAISS\n",
        "from langchain_core.output_parsers import StrOutputParser\n",
        "from langchain_core.prompts import ChatPromptTemplate, SystemMessagePromptTemplate, HumanMessagePromptTemplate, MessagesPlaceholder\n",
        "from langchain_core.runnables import RunnableLambda , RunnablePassthrough\n",
        "from langchain_core.messages import SystemMessage, HumanMessage, AIMessage\n",
        "from langchain_openai import ChatOpenAI, OpenAIEmbeddings\n",
        "from langchain.chains import create_history_aware_retriever, create_retrieval_chain\n",
        "from langchain.chains.combine_documents import create_stuff_documents_chain\n",
        "from langchain_community.llms import Ollama\n",
        "os.environ[\"OPENAI_API_KEY\"] = str(userdata.get(\"test_API_KEY\"))\n",
        "chat_history = []"
      ],
      "metadata": {
        "id": "ROqCCRhvhwg1"
      },
      "execution_count": null,
      "outputs": []
    },
    {
      "cell_type": "code",
      "source": [
        "vectorstore = FAISS.from_documents(\n",
        "    chunked_data, embedding=OpenAIEmbeddings()\n",
        ")\n",
        "vectorstore.save_local(\"dp_pbl_vectorstore\")"
      ],
      "metadata": {
        "id": "Jhr-OMd5lhAp"
      },
      "execution_count": null,
      "outputs": []
    },
    {
      "cell_type": "code",
      "source": [
        "# from azure.storage.blob import BlobServiceClient\n",
        "\n",
        "# CONN_STR = str(userdata.get(\"AZURE_STORAGE_CONNECTION_STRING\"))\n",
        "\n",
        "# blob_service_client = BlobServiceClient.from_connection_string(conn_str=CONN_STR)\n",
        "# container_client = blob_service_client.get_container_client(\"ncert-extraction-storage\")\n",
        "# print(\"\\nListing blobs...\")\n",
        "\n",
        "# # List the blobs in the container\n",
        "# blob_list = container_client.list_blobs()\n",
        "# for blob in blob_list:\n",
        "#     print(\"\\t\" + blob.name)\n",
        "\n",
        "# try:\n",
        "#     # Create the local vectorstore folder (if it doesn't exist)\n",
        "#     os.makedirs(\"vectorstore\", exist_ok=True)\n",
        "\n",
        "#     for blob in container_client.list_blobs(prefix=\"NCERT_IX_C1/vectorstore/\"):\n",
        "#         # Extract the filename from the blob name (assuming simple structure)\n",
        "#         filename = blob.name.split(\"/\")[-1]\n",
        "#         local_path = os.path.join(\"vectorstore\", filename)  # Path within \"vectorstore\" folder\n",
        "\n",
        "#         blob_client = container_client.get_blob_client(blob.name)\n",
        "#         with open(local_path, \"wb\") as download_file:\n",
        "#             download_file.write(blob_client.download_blob().readall())\n",
        "# except Exception as ex:\n",
        "#   # Handle download exceptions\n",
        "#   print(f\"Error downloading vectorstore files: {ex}\")"
      ],
      "metadata": {
        "id": "RgPe100O5DmF"
      },
      "execution_count": null,
      "outputs": []
    },
    {
      "cell_type": "code",
      "source": [
        "vectorstore = FAISS.load_local(\"dp_pbl_vectorstore\", OpenAIEmbeddings(), allow_dangerous_deserialization=True)\n",
        "\n",
        "retriever = vectorstore.as_retriever()\n",
        "\n",
        "human_template = \"\"\"Context: {context}\n",
        "Question: {question}\n",
        "\"\"\"\n",
        "system_prompt = \"\"\"\n",
        "As a helpful and cheerful assistant dedicated to teaching grammar to students, your role is to strictly answer grammar-related queries. If a student makes a grammatical error in their query, you will correct it and provide an explanation of what is incorrect.\n",
        "\"\"\"\n",
        "\n",
        "system_message_prompt = SystemMessagePromptTemplate.from_template(system_prompt)\n",
        "human_message_prompt = HumanMessagePromptTemplate.from_template(human_template)\n",
        "\n",
        "chat_prompt = ChatPromptTemplate.from_messages(\n",
        "   [system_message_prompt, human_message_prompt]\n",
        ")\n",
        "\n",
        "pprint(chat_prompt)\n",
        "\n",
        "model = ChatOpenAI()\n",
        "\n",
        "# Chain\n",
        "chain = (\n",
        "   {\n",
        "       \"context\": itemgetter(\"question\") | retriever,  # Context from retriever\n",
        "       \"question\": itemgetter(\"question\"),\n",
        "   }\n",
        "   | chat_prompt\n",
        "   | model\n",
        "   | StrOutputParser()\n",
        ")"
      ],
      "metadata": {
        "id": "R1rCOAqJh260",
        "colab": {
          "base_uri": "https://localhost:8080/"
        },
        "outputId": "01269e08-9a38-4809-ba36-d6eb615cec14"
      },
      "execution_count": null,
      "outputs": [
        {
          "output_type": "stream",
          "name": "stdout",
          "text": [
            "ChatPromptTemplate(input_variables=['context', 'question'], messages=[SystemMessagePromptTemplate(prompt=PromptTemplate(input_variables=[], template='\\nAs a helpful and cheerful assistant dedicated to teaching grammar to students, your role is to strictly answer grammar-related queries. If a student makes a grammatical error in their query, you will correct it and provide an explanation of what is incorrect.\\n')), HumanMessagePromptTemplate(prompt=PromptTemplate(input_variables=['context', 'question'], template='Context: {context}\\nQuestion: {question}\\n'))])\n"
          ]
        }
      ]
    },
    {
      "cell_type": "code",
      "source": [
        "vectorstore.similarity_search(\"Explain 2nd question in fill the blank spaces with nearest or next\")"
      ],
      "metadata": {
        "id": "8YSQwbnNxFXU",
        "colab": {
          "base_uri": "https://localhost:8080/"
        },
        "outputId": "5a5873d6-b8ac-44ad-c9b1-1996308a7931"
      },
      "execution_count": null,
      "outputs": [
        {
          "output_type": "execute_result",
          "data": {
            "text/plain": [
              "[Document(page_content=\"(c) Fill the blank spaces with 'oldest' and 'eldest' :-  \\n1\\\\. Rustam is the --- of my uncle's five sons.  \\n2\\\\. He is the --- member of the School Committee.  \\n3\\\\. That is Antonio, the duke's --- son.  \\n4\\\\. The --- mosque in the town is near the railway station.  \\n5\\\\. Mr. Smith is the --- teacher in the school.  \\n(d) Fill the blank spaces with 'farther' or 'further' :-  \\n1\\\\. I can't walk any ---.  \\n2\\\\. No --- reasons were given.  \\n3\\\\. He walked off without --- ceremony.  \\n4\\\\. Until --- orders Mr. K.S. Dave will act as Headmaster of Nira High School. 5. To let, a bungalow at Ridge Road. For --- particulars apply to Box. No. 65. Page 29  \\n(e) Fill the blank spaces with 'latest' or 'last' :-  \\n1\\\\. The --- news from China is very disquieting.  \\n2\\\\. The --- time I saw him, he was in high spirits.  \\n3\\\\. To-day is the --- day for receiving lenders.  \\n4\\\\. We expect to get the --- news in a few hours.  \\n5\\\\. The --- Moghul Emperor came to an ignominious end.  \\n(j) Fill the blank spaces with 'nearest' or 'next' :-  \\n1\\\\. This is the --- post office to my house.  \\n2\\\\. The pillar-box is --- to my house.  \\n3\\\\. The burglar was taken to the --- police station.  \\n4\\\\. His house is --- to mine.  \\n5\\\\. The --- railway station is two miles from here.  \\n87\\\\. Certain English Comparatives have lost their comparative meaning and are used as Positive. They cannot be followed by than. These are :- Former, latter, elder, upper, inner, outer, utter.  \\nBoth the tiger and (he leopard are cats; the former animal is much larger than the latter.  \\nThe inner meaning of this letter is not clear. The soldiers ran to defend the outer wall. My elder brother is an engineer. This man is an utter fool.  \\n88\\\\. Certain Comparatives borrowed from Latin have no Positive or Superlative degree. They all end in or, not er. They are twelve in all. Five of them have lost their Comparative meaning, and are used as Positive Adjectives. These are :- Interior, exterior, ulterior, major, minor.  \\nThe exterior wall of the house is made of stone; the interior walls are of wood.  \\nHis age is a matter of minor importance.\"),\n",
              " Document(page_content='This, these indicate something near to the speaker. That, those indicate more distant objects.'),\n",
              " Document(page_content='6. Say the same thing twice over.  \\n7\\\\. Several persons were present at the time,  \\n8\\\\. He is a man of few words.  \\n9\\\\. Neither party is quite in the right.  \\n10\\\\. What time is if?  \\n11\\\\. Which pen do you prefer?  \\n12\\\\. The way was long, the wind was cold, the minstrel was infirm and old.  \\n13\\\\. He comes here every day.  \\n14\\\\. I have not seen him for several days.  \\n15\\\\. There should not be much talk and little work.  \\n16\\\\. Abdul won the second prize.  \\n17\\\\. The child fell down from a great height.  \\n18\\\\. He was absent last week.  \\n19\\\\. He died a glorious death.  \\n20\\\\. A small leak may sink a great ship.  \\n21\\\\. Good wine needs no bush.  \\n22\\\\. I like the little pedlar who has a crooked nose.  \\n23\\\\. King Francis was a hearty King and loved a royal sport.  \\n24\\\\. In the furrowed land the toilsome patient oxen stand.  \\n25\\\\. My uncle lives in the next house.  \\n26\\\\. Some dreams are like reality.  \\n27\\\\. A cross child is not liked.  \\n28\\\\. It is an ill wind that blows nobody any good.  \\n76\\\\. In the following sentences the words own and very are used as Emphasizing Adjectives :-  \\nI saw it with my own eyes. He was beaten at his own game. Mind your own business. He is his own master. That is the very thing we want.  \\n\"When all else left my cause. My very adversary took my part\".  \\n77\\\\. The word what is sometimes used as an Exclamatory Adjective; as.  \\nWhat genius! What folly! What an idea! What a blessing! What a piece of work is man!  \\n78\\\\. As already pointed out (§ 74) this and that are the only Adjectives which are inflected or changed in form to show number.  \\nThis girl sings. These girls sing. That boy plays. Those boys play.'),\n",
              " Document(page_content='86. The double forms of the Comparative and Superlative of the Adjectives given in § 85 are used in different ways.  \\nLater, latter; latest, last. - Later and latest refer to time; latter and last refer to position.  \\nHe is later than I expected. I have not heard the latest news. The latter chapters are lacking in interest. The last chapter is carelessly written Ours is the last house in the street. Page 28  \\nElder, older; eldest, oldest .- Elder and eldest are used only of persons, not of animals or things; and are now confined to members of the same family. Elder is not used with than following. Older and oldest are used of both persons and things.  \\nJohn is my elder brother. Tom is my eldest son. He is older than his sister. Rama is the oldest boy in the eleven. This is the oldest temple in Kolkata.  \\nFarther, further .- Both farther and further are used to express distance. Further, not farther, is used to mean \"additional\".  \\nKolkata is farther/further from the equator than Colombo. After this he made no further remarks. I must have a reply without further delay.  \\nNearest, next .- Nearest means the shortest distance away. Next refers to one of a sequence of things coming one after the other. Mumbai is the seaport nearest to Europe. Where is the nearest phone box? Karim\\'s shop is next to the Post Office. My uncle lives in the next house.')]"
            ]
          },
          "metadata": {},
          "execution_count": 12
        }
      ]
    },
    {
      "cell_type": "code",
      "source": [
        "query = \"Explain 2nd question in fill the blank spaces with nearest or next and give the answer\" # @param {type:\"string\"}\n",
        "output = chain.invoke({\"question\": str(query)})\n",
        "print(output)"
      ],
      "metadata": {
        "id": "TG6NXFwBiAPU",
        "colab": {
          "base_uri": "https://localhost:8080/"
        },
        "outputId": "3637b845-b572-4c4a-d7dd-1ff5933d9d08"
      },
      "execution_count": null,
      "outputs": [
        {
          "output_type": "stream",
          "name": "stdout",
          "text": [
            "The correction in your question is: \"Explain the 2nd question in 'Fill the blank spaces with 'nearest' or 'next' and provide the answer.\"\n",
            "\n",
            "Explanation: The ordinal number \"2nd\" should be written as \"2nd\" with the letters \"nd\" following the number \"2\" to indicate its position in a sequence.\n",
            "\n",
            "Answer: The 2nd question in the 'Fill the blank spaces with 'nearest' or 'next' is \"The pillar-box is --- to my house.\" The correct word to fill in the blank is \"nearest.\"\n"
          ]
        }
      ]
    },
    {
      "cell_type": "code",
      "source": [
        "pprint(chat_history)"
      ],
      "metadata": {
        "id": "cJuM9i11RJ00",
        "colab": {
          "base_uri": "https://localhost:8080/"
        },
        "outputId": "ab0bb239-bc39-4595-bf8e-72dc9be6c7cd"
      },
      "execution_count": null,
      "outputs": [
        {
          "output_type": "stream",
          "name": "stdout",
          "text": [
            "[HumanMessage(content='Can you explain the topic states of matter ?'),\n",
            " AIMessage(content=\"Of course! Let's talk about states of matter. Matter can exist in three main states: solid, liquid, and gas. \\n\\nSolid: In a solid, the particles are packed tightly together and vibrate in place. Think of a solid like a group of people standing shoulder to shoulder in a line and barely moving.\\n\\nLiquid: In a liquid, the particles are close together but can move around each other. Imagine a liquid like a group of people mingling and moving around at a party.\\n\\nGas: In a gas, the particles are far apart and move freely. Picture a gas like a group of people spreading out and freely moving around in a large open space.\\n\\nDo you have any examples of solids, liquids, and gases that you can think of in your daily life? Let's discuss further to see if you can identify more examples!\")]\n"
          ]
        }
      ]
    },
    {
      "cell_type": "markdown",
      "source": [
        "# Ollama"
      ],
      "metadata": {
        "id": "JOi0JCE3Mn3u"
      }
    },
    {
      "cell_type": "code",
      "source": [
        "!curl -fsSL https://ollama.com/install.sh | sh\n",
        "!pip install ollama"
      ],
      "metadata": {
        "id": "0jC3JrcD5dMe",
        "colab": {
          "base_uri": "https://localhost:8080/",
          "height": 828
        },
        "outputId": "08ec1024-f93a-43d4-c826-0e075d37f774"
      },
      "execution_count": null,
      "outputs": [
        {
          "output_type": "stream",
          "name": "stdout",
          "text": [
            ">>> Downloading ollama...\n",
            "############################################################################################# 100.0%\n",
            ">>> Installing ollama to /usr/local/bin...\n",
            ">>> Creating ollama user...\n",
            ">>> Adding ollama user to video group...\n",
            ">>> Adding current user to ollama group...\n",
            ">>> Creating ollama systemd service...\n",
            "WARNING: Unable to detect NVIDIA/AMD GPU. Install lspci or lshw to automatically detect and install GPU dependencies.\n",
            ">>> The Ollama API is now available at 127.0.0.1:11434.\n",
            ">>> Install complete. Run \"ollama\" from the command line.\n",
            "Collecting ollama\n",
            "  Downloading ollama-0.1.8-py3-none-any.whl (9.4 kB)\n",
            "Requirement already satisfied: httpx<0.28.0,>=0.27.0 in /usr/local/lib/python3.10/dist-packages (from ollama) (0.27.0)\n",
            "Requirement already satisfied: anyio in /usr/local/lib/python3.10/dist-packages (from httpx<0.28.0,>=0.27.0->ollama) (3.7.1)\n",
            "Requirement already satisfied: certifi in /usr/local/lib/python3.10/dist-packages (from httpx<0.28.0,>=0.27.0->ollama) (2024.2.2)\n",
            "Requirement already satisfied: httpcore==1.* in /usr/local/lib/python3.10/dist-packages (from httpx<0.28.0,>=0.27.0->ollama) (1.0.5)\n",
            "Requirement already satisfied: idna in /usr/local/lib/python3.10/dist-packages (from httpx<0.28.0,>=0.27.0->ollama) (3.6)\n",
            "Requirement already satisfied: sniffio in /usr/local/lib/python3.10/dist-packages (from httpx<0.28.0,>=0.27.0->ollama) (1.3.1)\n",
            "Requirement already satisfied: h11<0.15,>=0.13 in /usr/local/lib/python3.10/dist-packages (from httpcore==1.*->httpx<0.28.0,>=0.27.0->ollama) (0.14.0)\n",
            "Requirement already satisfied: exceptiongroup in /usr/local/lib/python3.10/dist-packages (from anyio->httpx<0.28.0,>=0.27.0->ollama) (1.2.0)\n",
            "Installing collected packages: ollama\n",
            "Successfully installed ollama-0.1.8\n"
          ]
        },
        {
          "output_type": "error",
          "ename": "ConnectError",
          "evalue": "[Errno 111] Connection refused",
          "traceback": [
            "\u001b[0;31m---------------------------------------------------------------------------\u001b[0m",
            "\u001b[0;31mConnectError\u001b[0m                              Traceback (most recent call last)",
            "\u001b[0;32m/usr/local/lib/python3.10/dist-packages/httpx/_transports/default.py\u001b[0m in \u001b[0;36mmap_httpcore_exceptions\u001b[0;34m()\u001b[0m\n\u001b[1;32m     68\u001b[0m     \u001b[0;32mtry\u001b[0m\u001b[0;34m:\u001b[0m\u001b[0;34m\u001b[0m\u001b[0;34m\u001b[0m\u001b[0m\n\u001b[0;32m---> 69\u001b[0;31m         \u001b[0;32myield\u001b[0m\u001b[0;34m\u001b[0m\u001b[0;34m\u001b[0m\u001b[0m\n\u001b[0m\u001b[1;32m     70\u001b[0m     \u001b[0;32mexcept\u001b[0m \u001b[0mException\u001b[0m \u001b[0;32mas\u001b[0m \u001b[0mexc\u001b[0m\u001b[0;34m:\u001b[0m\u001b[0;34m\u001b[0m\u001b[0;34m\u001b[0m\u001b[0m\n",
            "\u001b[0;32m/usr/local/lib/python3.10/dist-packages/httpx/_transports/default.py\u001b[0m in \u001b[0;36mhandle_request\u001b[0;34m(self, request)\u001b[0m\n\u001b[1;32m    232\u001b[0m         \u001b[0;32mwith\u001b[0m \u001b[0mmap_httpcore_exceptions\u001b[0m\u001b[0;34m(\u001b[0m\u001b[0;34m)\u001b[0m\u001b[0;34m:\u001b[0m\u001b[0;34m\u001b[0m\u001b[0;34m\u001b[0m\u001b[0m\n\u001b[0;32m--> 233\u001b[0;31m             \u001b[0mresp\u001b[0m \u001b[0;34m=\u001b[0m \u001b[0mself\u001b[0m\u001b[0;34m.\u001b[0m\u001b[0m_pool\u001b[0m\u001b[0;34m.\u001b[0m\u001b[0mhandle_request\u001b[0m\u001b[0;34m(\u001b[0m\u001b[0mreq\u001b[0m\u001b[0;34m)\u001b[0m\u001b[0;34m\u001b[0m\u001b[0;34m\u001b[0m\u001b[0m\n\u001b[0m\u001b[1;32m    234\u001b[0m \u001b[0;34m\u001b[0m\u001b[0m\n",
            "\u001b[0;32m/usr/local/lib/python3.10/dist-packages/httpcore/_sync/connection_pool.py\u001b[0m in \u001b[0;36mhandle_request\u001b[0;34m(self, request)\u001b[0m\n\u001b[1;32m    215\u001b[0m             \u001b[0mself\u001b[0m\u001b[0;34m.\u001b[0m\u001b[0m_close_connections\u001b[0m\u001b[0;34m(\u001b[0m\u001b[0mclosing\u001b[0m\u001b[0;34m)\u001b[0m\u001b[0;34m\u001b[0m\u001b[0;34m\u001b[0m\u001b[0m\n\u001b[0;32m--> 216\u001b[0;31m             \u001b[0;32mraise\u001b[0m \u001b[0mexc\u001b[0m \u001b[0;32mfrom\u001b[0m \u001b[0;32mNone\u001b[0m\u001b[0;34m\u001b[0m\u001b[0;34m\u001b[0m\u001b[0m\n\u001b[0m\u001b[1;32m    217\u001b[0m \u001b[0;34m\u001b[0m\u001b[0m\n",
            "\u001b[0;32m/usr/local/lib/python3.10/dist-packages/httpcore/_sync/connection_pool.py\u001b[0m in \u001b[0;36mhandle_request\u001b[0;34m(self, request)\u001b[0m\n\u001b[1;32m    195\u001b[0m                     \u001b[0;31m# Send the request on the assigned connection.\u001b[0m\u001b[0;34m\u001b[0m\u001b[0;34m\u001b[0m\u001b[0m\n\u001b[0;32m--> 196\u001b[0;31m                     response = connection.handle_request(\n\u001b[0m\u001b[1;32m    197\u001b[0m                         \u001b[0mpool_request\u001b[0m\u001b[0;34m.\u001b[0m\u001b[0mrequest\u001b[0m\u001b[0;34m\u001b[0m\u001b[0;34m\u001b[0m\u001b[0m\n",
            "\u001b[0;32m/usr/local/lib/python3.10/dist-packages/httpcore/_sync/connection.py\u001b[0m in \u001b[0;36mhandle_request\u001b[0;34m(self, request)\u001b[0m\n\u001b[1;32m     98\u001b[0m             \u001b[0mself\u001b[0m\u001b[0;34m.\u001b[0m\u001b[0m_connect_failed\u001b[0m \u001b[0;34m=\u001b[0m \u001b[0;32mTrue\u001b[0m\u001b[0;34m\u001b[0m\u001b[0;34m\u001b[0m\u001b[0m\n\u001b[0;32m---> 99\u001b[0;31m             \u001b[0;32mraise\u001b[0m \u001b[0mexc\u001b[0m\u001b[0;34m\u001b[0m\u001b[0;34m\u001b[0m\u001b[0m\n\u001b[0m\u001b[1;32m    100\u001b[0m \u001b[0;34m\u001b[0m\u001b[0m\n",
            "\u001b[0;32m/usr/local/lib/python3.10/dist-packages/httpcore/_sync/connection.py\u001b[0m in \u001b[0;36mhandle_request\u001b[0;34m(self, request)\u001b[0m\n\u001b[1;32m     75\u001b[0m                 \u001b[0;32mif\u001b[0m \u001b[0mself\u001b[0m\u001b[0;34m.\u001b[0m\u001b[0m_connection\u001b[0m \u001b[0;32mis\u001b[0m \u001b[0;32mNone\u001b[0m\u001b[0;34m:\u001b[0m\u001b[0;34m\u001b[0m\u001b[0;34m\u001b[0m\u001b[0m\n\u001b[0;32m---> 76\u001b[0;31m                     \u001b[0mstream\u001b[0m \u001b[0;34m=\u001b[0m \u001b[0mself\u001b[0m\u001b[0;34m.\u001b[0m\u001b[0m_connect\u001b[0m\u001b[0;34m(\u001b[0m\u001b[0mrequest\u001b[0m\u001b[0;34m)\u001b[0m\u001b[0;34m\u001b[0m\u001b[0;34m\u001b[0m\u001b[0m\n\u001b[0m\u001b[1;32m     77\u001b[0m \u001b[0;34m\u001b[0m\u001b[0m\n",
            "\u001b[0;32m/usr/local/lib/python3.10/dist-packages/httpcore/_sync/connection.py\u001b[0m in \u001b[0;36m_connect\u001b[0;34m(self, request)\u001b[0m\n\u001b[1;32m    121\u001b[0m                     \u001b[0;32mwith\u001b[0m \u001b[0mTrace\u001b[0m\u001b[0;34m(\u001b[0m\u001b[0;34m\"connect_tcp\"\u001b[0m\u001b[0;34m,\u001b[0m \u001b[0mlogger\u001b[0m\u001b[0;34m,\u001b[0m \u001b[0mrequest\u001b[0m\u001b[0;34m,\u001b[0m \u001b[0mkwargs\u001b[0m\u001b[0;34m)\u001b[0m \u001b[0;32mas\u001b[0m \u001b[0mtrace\u001b[0m\u001b[0;34m:\u001b[0m\u001b[0;34m\u001b[0m\u001b[0;34m\u001b[0m\u001b[0m\n\u001b[0;32m--> 122\u001b[0;31m                         \u001b[0mstream\u001b[0m \u001b[0;34m=\u001b[0m \u001b[0mself\u001b[0m\u001b[0;34m.\u001b[0m\u001b[0m_network_backend\u001b[0m\u001b[0;34m.\u001b[0m\u001b[0mconnect_tcp\u001b[0m\u001b[0;34m(\u001b[0m\u001b[0;34m**\u001b[0m\u001b[0mkwargs\u001b[0m\u001b[0;34m)\u001b[0m\u001b[0;34m\u001b[0m\u001b[0;34m\u001b[0m\u001b[0m\n\u001b[0m\u001b[1;32m    123\u001b[0m                         \u001b[0mtrace\u001b[0m\u001b[0;34m.\u001b[0m\u001b[0mreturn_value\u001b[0m \u001b[0;34m=\u001b[0m \u001b[0mstream\u001b[0m\u001b[0;34m\u001b[0m\u001b[0;34m\u001b[0m\u001b[0m\n",
            "\u001b[0;32m/usr/local/lib/python3.10/dist-packages/httpcore/_backends/sync.py\u001b[0m in \u001b[0;36mconnect_tcp\u001b[0;34m(self, host, port, timeout, local_address, socket_options)\u001b[0m\n\u001b[1;32m    204\u001b[0m \u001b[0;34m\u001b[0m\u001b[0m\n\u001b[0;32m--> 205\u001b[0;31m         \u001b[0;32mwith\u001b[0m \u001b[0mmap_exceptions\u001b[0m\u001b[0;34m(\u001b[0m\u001b[0mexc_map\u001b[0m\u001b[0;34m)\u001b[0m\u001b[0;34m:\u001b[0m\u001b[0;34m\u001b[0m\u001b[0;34m\u001b[0m\u001b[0m\n\u001b[0m\u001b[1;32m    206\u001b[0m             sock = socket.create_connection(\n",
            "\u001b[0;32m/usr/lib/python3.10/contextlib.py\u001b[0m in \u001b[0;36m__exit__\u001b[0;34m(self, typ, value, traceback)\u001b[0m\n\u001b[1;32m    152\u001b[0m             \u001b[0;32mtry\u001b[0m\u001b[0;34m:\u001b[0m\u001b[0;34m\u001b[0m\u001b[0;34m\u001b[0m\u001b[0m\n\u001b[0;32m--> 153\u001b[0;31m                 \u001b[0mself\u001b[0m\u001b[0;34m.\u001b[0m\u001b[0mgen\u001b[0m\u001b[0;34m.\u001b[0m\u001b[0mthrow\u001b[0m\u001b[0;34m(\u001b[0m\u001b[0mtyp\u001b[0m\u001b[0;34m,\u001b[0m \u001b[0mvalue\u001b[0m\u001b[0;34m,\u001b[0m \u001b[0mtraceback\u001b[0m\u001b[0;34m)\u001b[0m\u001b[0;34m\u001b[0m\u001b[0;34m\u001b[0m\u001b[0m\n\u001b[0m\u001b[1;32m    154\u001b[0m             \u001b[0;32mexcept\u001b[0m \u001b[0mStopIteration\u001b[0m \u001b[0;32mas\u001b[0m \u001b[0mexc\u001b[0m\u001b[0;34m:\u001b[0m\u001b[0;34m\u001b[0m\u001b[0;34m\u001b[0m\u001b[0m\n",
            "\u001b[0;32m/usr/local/lib/python3.10/dist-packages/httpcore/_exceptions.py\u001b[0m in \u001b[0;36mmap_exceptions\u001b[0;34m(map)\u001b[0m\n\u001b[1;32m     13\u001b[0m             \u001b[0;32mif\u001b[0m \u001b[0misinstance\u001b[0m\u001b[0;34m(\u001b[0m\u001b[0mexc\u001b[0m\u001b[0;34m,\u001b[0m \u001b[0mfrom_exc\u001b[0m\u001b[0;34m)\u001b[0m\u001b[0;34m:\u001b[0m\u001b[0;34m\u001b[0m\u001b[0;34m\u001b[0m\u001b[0m\n\u001b[0;32m---> 14\u001b[0;31m                 \u001b[0;32mraise\u001b[0m \u001b[0mto_exc\u001b[0m\u001b[0;34m(\u001b[0m\u001b[0mexc\u001b[0m\u001b[0;34m)\u001b[0m \u001b[0;32mfrom\u001b[0m \u001b[0mexc\u001b[0m\u001b[0;34m\u001b[0m\u001b[0;34m\u001b[0m\u001b[0m\n\u001b[0m\u001b[1;32m     15\u001b[0m         \u001b[0;32mraise\u001b[0m  \u001b[0;31m# pragma: nocover\u001b[0m\u001b[0;34m\u001b[0m\u001b[0;34m\u001b[0m\u001b[0m\n",
            "\u001b[0;31mConnectError\u001b[0m: [Errno 111] Connection refused",
            "\nThe above exception was the direct cause of the following exception:\n",
            "\u001b[0;31mConnectError\u001b[0m                              Traceback (most recent call last)",
            "\u001b[0;32m<ipython-input-5-c27914786ac4>\u001b[0m in \u001b[0;36m<cell line: 4>\u001b[0;34m()\u001b[0m\n\u001b[1;32m      2\u001b[0m \u001b[0mget_ipython\u001b[0m\u001b[0;34m(\u001b[0m\u001b[0;34m)\u001b[0m\u001b[0;34m.\u001b[0m\u001b[0msystem\u001b[0m\u001b[0;34m(\u001b[0m\u001b[0;34m'pip install ollama'\u001b[0m\u001b[0;34m)\u001b[0m\u001b[0;34m\u001b[0m\u001b[0;34m\u001b[0m\u001b[0m\n\u001b[1;32m      3\u001b[0m \u001b[0;32mimport\u001b[0m \u001b[0mollama\u001b[0m\u001b[0;34m\u001b[0m\u001b[0;34m\u001b[0m\u001b[0m\n\u001b[0;32m----> 4\u001b[0;31m \u001b[0mollama\u001b[0m\u001b[0;34m.\u001b[0m\u001b[0mpull\u001b[0m\u001b[0;34m(\u001b[0m\u001b[0;34m\"phi\"\u001b[0m\u001b[0;34m)\u001b[0m\u001b[0;34m\u001b[0m\u001b[0;34m\u001b[0m\u001b[0m\n\u001b[0m",
            "\u001b[0;32m/usr/local/lib/python3.10/dist-packages/ollama/_client.py\u001b[0m in \u001b[0;36mpull\u001b[0;34m(self, model, insecure, stream)\u001b[0m\n\u001b[1;32m    218\u001b[0m     \u001b[0mReturns\u001b[0m\u001b[0;31m \u001b[0m\u001b[0;31m`\u001b[0m\u001b[0mProgressResponse\u001b[0m\u001b[0;31m`\u001b[0m \u001b[0;32mif\u001b[0m\u001b[0;31m \u001b[0m\u001b[0;31m`\u001b[0m\u001b[0mstream\u001b[0m\u001b[0;31m`\u001b[0m \u001b[0;32mis\u001b[0m\u001b[0;31m \u001b[0m\u001b[0;31m`\u001b[0m\u001b[0;32mFalse\u001b[0m\u001b[0;31m`\u001b[0m\u001b[0;34m,\u001b[0m \u001b[0motherwise\u001b[0m \u001b[0mreturns\u001b[0m \u001b[0ma\u001b[0m\u001b[0;31m \u001b[0m\u001b[0;31m`\u001b[0m\u001b[0mProgressResponse\u001b[0m\u001b[0;31m`\u001b[0m \u001b[0mgenerator\u001b[0m\u001b[0;34m.\u001b[0m\u001b[0;34m\u001b[0m\u001b[0;34m\u001b[0m\u001b[0m\n\u001b[1;32m    219\u001b[0m     \"\"\"\n\u001b[0;32m--> 220\u001b[0;31m     return self._request_stream(\n\u001b[0m\u001b[1;32m    221\u001b[0m       \u001b[0;34m'POST'\u001b[0m\u001b[0;34m,\u001b[0m\u001b[0;34m\u001b[0m\u001b[0;34m\u001b[0m\u001b[0m\n\u001b[1;32m    222\u001b[0m       \u001b[0;34m'/api/pull'\u001b[0m\u001b[0;34m,\u001b[0m\u001b[0;34m\u001b[0m\u001b[0;34m\u001b[0m\u001b[0m\n",
            "\u001b[0;32m/usr/local/lib/python3.10/dist-packages/ollama/_client.py\u001b[0m in \u001b[0;36m_request_stream\u001b[0;34m(self, stream, *args, **kwargs)\u001b[0m\n\u001b[1;32m     95\u001b[0m     \u001b[0;34m**\u001b[0m\u001b[0mkwargs\u001b[0m\u001b[0;34m,\u001b[0m\u001b[0;34m\u001b[0m\u001b[0;34m\u001b[0m\u001b[0m\n\u001b[1;32m     96\u001b[0m   ) -> Union[Mapping[str, Any], Iterator[Mapping[str, Any]]]:\n\u001b[0;32m---> 97\u001b[0;31m     \u001b[0;32mreturn\u001b[0m \u001b[0mself\u001b[0m\u001b[0;34m.\u001b[0m\u001b[0m_stream\u001b[0m\u001b[0;34m(\u001b[0m\u001b[0;34m*\u001b[0m\u001b[0margs\u001b[0m\u001b[0;34m,\u001b[0m \u001b[0;34m**\u001b[0m\u001b[0mkwargs\u001b[0m\u001b[0;34m)\u001b[0m \u001b[0;32mif\u001b[0m \u001b[0mstream\u001b[0m \u001b[0;32melse\u001b[0m \u001b[0mself\u001b[0m\u001b[0;34m.\u001b[0m\u001b[0m_request\u001b[0m\u001b[0;34m(\u001b[0m\u001b[0;34m*\u001b[0m\u001b[0margs\u001b[0m\u001b[0;34m,\u001b[0m \u001b[0;34m**\u001b[0m\u001b[0mkwargs\u001b[0m\u001b[0;34m)\u001b[0m\u001b[0;34m.\u001b[0m\u001b[0mjson\u001b[0m\u001b[0;34m(\u001b[0m\u001b[0;34m)\u001b[0m\u001b[0;34m\u001b[0m\u001b[0;34m\u001b[0m\u001b[0m\n\u001b[0m\u001b[1;32m     98\u001b[0m \u001b[0;34m\u001b[0m\u001b[0m\n\u001b[1;32m     99\u001b[0m   def generate(\n",
            "\u001b[0;32m/usr/local/lib/python3.10/dist-packages/ollama/_client.py\u001b[0m in \u001b[0;36m_request\u001b[0;34m(self, method, url, **kwargs)\u001b[0m\n\u001b[1;32m     66\u001b[0m \u001b[0;34m\u001b[0m\u001b[0m\n\u001b[1;32m     67\u001b[0m   \u001b[0;32mdef\u001b[0m \u001b[0m_request\u001b[0m\u001b[0;34m(\u001b[0m\u001b[0mself\u001b[0m\u001b[0;34m,\u001b[0m \u001b[0mmethod\u001b[0m\u001b[0;34m:\u001b[0m \u001b[0mstr\u001b[0m\u001b[0;34m,\u001b[0m \u001b[0murl\u001b[0m\u001b[0;34m:\u001b[0m \u001b[0mstr\u001b[0m\u001b[0;34m,\u001b[0m \u001b[0;34m**\u001b[0m\u001b[0mkwargs\u001b[0m\u001b[0;34m)\u001b[0m \u001b[0;34m->\u001b[0m \u001b[0mhttpx\u001b[0m\u001b[0;34m.\u001b[0m\u001b[0mResponse\u001b[0m\u001b[0;34m:\u001b[0m\u001b[0;34m\u001b[0m\u001b[0;34m\u001b[0m\u001b[0m\n\u001b[0;32m---> 68\u001b[0;31m     \u001b[0mresponse\u001b[0m \u001b[0;34m=\u001b[0m \u001b[0mself\u001b[0m\u001b[0;34m.\u001b[0m\u001b[0m_client\u001b[0m\u001b[0;34m.\u001b[0m\u001b[0mrequest\u001b[0m\u001b[0;34m(\u001b[0m\u001b[0mmethod\u001b[0m\u001b[0;34m,\u001b[0m \u001b[0murl\u001b[0m\u001b[0;34m,\u001b[0m \u001b[0;34m**\u001b[0m\u001b[0mkwargs\u001b[0m\u001b[0;34m)\u001b[0m\u001b[0;34m\u001b[0m\u001b[0;34m\u001b[0m\u001b[0m\n\u001b[0m\u001b[1;32m     69\u001b[0m \u001b[0;34m\u001b[0m\u001b[0m\n\u001b[1;32m     70\u001b[0m     \u001b[0;32mtry\u001b[0m\u001b[0;34m:\u001b[0m\u001b[0;34m\u001b[0m\u001b[0;34m\u001b[0m\u001b[0m\n",
            "\u001b[0;32m/usr/local/lib/python3.10/dist-packages/httpx/_client.py\u001b[0m in \u001b[0;36mrequest\u001b[0;34m(self, method, url, content, data, files, json, params, headers, cookies, auth, follow_redirects, timeout, extensions)\u001b[0m\n\u001b[1;32m    825\u001b[0m             \u001b[0mextensions\u001b[0m\u001b[0;34m=\u001b[0m\u001b[0mextensions\u001b[0m\u001b[0;34m,\u001b[0m\u001b[0;34m\u001b[0m\u001b[0;34m\u001b[0m\u001b[0m\n\u001b[1;32m    826\u001b[0m         )\n\u001b[0;32m--> 827\u001b[0;31m         \u001b[0;32mreturn\u001b[0m \u001b[0mself\u001b[0m\u001b[0;34m.\u001b[0m\u001b[0msend\u001b[0m\u001b[0;34m(\u001b[0m\u001b[0mrequest\u001b[0m\u001b[0;34m,\u001b[0m \u001b[0mauth\u001b[0m\u001b[0;34m=\u001b[0m\u001b[0mauth\u001b[0m\u001b[0;34m,\u001b[0m \u001b[0mfollow_redirects\u001b[0m\u001b[0;34m=\u001b[0m\u001b[0mfollow_redirects\u001b[0m\u001b[0;34m)\u001b[0m\u001b[0;34m\u001b[0m\u001b[0;34m\u001b[0m\u001b[0m\n\u001b[0m\u001b[1;32m    828\u001b[0m \u001b[0;34m\u001b[0m\u001b[0m\n\u001b[1;32m    829\u001b[0m     \u001b[0;34m@\u001b[0m\u001b[0mcontextmanager\u001b[0m\u001b[0;34m\u001b[0m\u001b[0;34m\u001b[0m\u001b[0m\n",
            "\u001b[0;32m/usr/local/lib/python3.10/dist-packages/httpx/_client.py\u001b[0m in \u001b[0;36msend\u001b[0;34m(self, request, stream, auth, follow_redirects)\u001b[0m\n\u001b[1;32m    912\u001b[0m         \u001b[0mauth\u001b[0m \u001b[0;34m=\u001b[0m \u001b[0mself\u001b[0m\u001b[0;34m.\u001b[0m\u001b[0m_build_request_auth\u001b[0m\u001b[0;34m(\u001b[0m\u001b[0mrequest\u001b[0m\u001b[0;34m,\u001b[0m \u001b[0mauth\u001b[0m\u001b[0;34m)\u001b[0m\u001b[0;34m\u001b[0m\u001b[0;34m\u001b[0m\u001b[0m\n\u001b[1;32m    913\u001b[0m \u001b[0;34m\u001b[0m\u001b[0m\n\u001b[0;32m--> 914\u001b[0;31m         response = self._send_handling_auth(\n\u001b[0m\u001b[1;32m    915\u001b[0m             \u001b[0mrequest\u001b[0m\u001b[0;34m,\u001b[0m\u001b[0;34m\u001b[0m\u001b[0;34m\u001b[0m\u001b[0m\n\u001b[1;32m    916\u001b[0m             \u001b[0mauth\u001b[0m\u001b[0;34m=\u001b[0m\u001b[0mauth\u001b[0m\u001b[0;34m,\u001b[0m\u001b[0;34m\u001b[0m\u001b[0;34m\u001b[0m\u001b[0m\n",
            "\u001b[0;32m/usr/local/lib/python3.10/dist-packages/httpx/_client.py\u001b[0m in \u001b[0;36m_send_handling_auth\u001b[0;34m(self, request, auth, follow_redirects, history)\u001b[0m\n\u001b[1;32m    940\u001b[0m \u001b[0;34m\u001b[0m\u001b[0m\n\u001b[1;32m    941\u001b[0m             \u001b[0;32mwhile\u001b[0m \u001b[0;32mTrue\u001b[0m\u001b[0;34m:\u001b[0m\u001b[0;34m\u001b[0m\u001b[0;34m\u001b[0m\u001b[0m\n\u001b[0;32m--> 942\u001b[0;31m                 response = self._send_handling_redirects(\n\u001b[0m\u001b[1;32m    943\u001b[0m                     \u001b[0mrequest\u001b[0m\u001b[0;34m,\u001b[0m\u001b[0;34m\u001b[0m\u001b[0;34m\u001b[0m\u001b[0m\n\u001b[1;32m    944\u001b[0m                     \u001b[0mfollow_redirects\u001b[0m\u001b[0;34m=\u001b[0m\u001b[0mfollow_redirects\u001b[0m\u001b[0;34m,\u001b[0m\u001b[0;34m\u001b[0m\u001b[0;34m\u001b[0m\u001b[0m\n",
            "\u001b[0;32m/usr/local/lib/python3.10/dist-packages/httpx/_client.py\u001b[0m in \u001b[0;36m_send_handling_redirects\u001b[0;34m(self, request, follow_redirects, history)\u001b[0m\n\u001b[1;32m    977\u001b[0m                 \u001b[0mhook\u001b[0m\u001b[0;34m(\u001b[0m\u001b[0mrequest\u001b[0m\u001b[0;34m)\u001b[0m\u001b[0;34m\u001b[0m\u001b[0;34m\u001b[0m\u001b[0m\n\u001b[1;32m    978\u001b[0m \u001b[0;34m\u001b[0m\u001b[0m\n\u001b[0;32m--> 979\u001b[0;31m             \u001b[0mresponse\u001b[0m \u001b[0;34m=\u001b[0m \u001b[0mself\u001b[0m\u001b[0;34m.\u001b[0m\u001b[0m_send_single_request\u001b[0m\u001b[0;34m(\u001b[0m\u001b[0mrequest\u001b[0m\u001b[0;34m)\u001b[0m\u001b[0;34m\u001b[0m\u001b[0;34m\u001b[0m\u001b[0m\n\u001b[0m\u001b[1;32m    980\u001b[0m             \u001b[0;32mtry\u001b[0m\u001b[0;34m:\u001b[0m\u001b[0;34m\u001b[0m\u001b[0;34m\u001b[0m\u001b[0m\n\u001b[1;32m    981\u001b[0m                 \u001b[0;32mfor\u001b[0m \u001b[0mhook\u001b[0m \u001b[0;32min\u001b[0m \u001b[0mself\u001b[0m\u001b[0;34m.\u001b[0m\u001b[0m_event_hooks\u001b[0m\u001b[0;34m[\u001b[0m\u001b[0;34m\"response\"\u001b[0m\u001b[0;34m]\u001b[0m\u001b[0;34m:\u001b[0m\u001b[0;34m\u001b[0m\u001b[0;34m\u001b[0m\u001b[0m\n",
            "\u001b[0;32m/usr/local/lib/python3.10/dist-packages/httpx/_client.py\u001b[0m in \u001b[0;36m_send_single_request\u001b[0;34m(self, request)\u001b[0m\n\u001b[1;32m   1013\u001b[0m \u001b[0;34m\u001b[0m\u001b[0m\n\u001b[1;32m   1014\u001b[0m         \u001b[0;32mwith\u001b[0m \u001b[0mrequest_context\u001b[0m\u001b[0;34m(\u001b[0m\u001b[0mrequest\u001b[0m\u001b[0;34m=\u001b[0m\u001b[0mrequest\u001b[0m\u001b[0;34m)\u001b[0m\u001b[0;34m:\u001b[0m\u001b[0;34m\u001b[0m\u001b[0;34m\u001b[0m\u001b[0m\n\u001b[0;32m-> 1015\u001b[0;31m             \u001b[0mresponse\u001b[0m \u001b[0;34m=\u001b[0m \u001b[0mtransport\u001b[0m\u001b[0;34m.\u001b[0m\u001b[0mhandle_request\u001b[0m\u001b[0;34m(\u001b[0m\u001b[0mrequest\u001b[0m\u001b[0;34m)\u001b[0m\u001b[0;34m\u001b[0m\u001b[0;34m\u001b[0m\u001b[0m\n\u001b[0m\u001b[1;32m   1016\u001b[0m \u001b[0;34m\u001b[0m\u001b[0m\n\u001b[1;32m   1017\u001b[0m         \u001b[0;32massert\u001b[0m \u001b[0misinstance\u001b[0m\u001b[0;34m(\u001b[0m\u001b[0mresponse\u001b[0m\u001b[0;34m.\u001b[0m\u001b[0mstream\u001b[0m\u001b[0;34m,\u001b[0m \u001b[0mSyncByteStream\u001b[0m\u001b[0;34m)\u001b[0m\u001b[0;34m\u001b[0m\u001b[0;34m\u001b[0m\u001b[0m\n",
            "\u001b[0;32m/usr/local/lib/python3.10/dist-packages/httpx/_transports/default.py\u001b[0m in \u001b[0;36mhandle_request\u001b[0;34m(self, request)\u001b[0m\n\u001b[1;32m    230\u001b[0m             \u001b[0mextensions\u001b[0m\u001b[0;34m=\u001b[0m\u001b[0mrequest\u001b[0m\u001b[0;34m.\u001b[0m\u001b[0mextensions\u001b[0m\u001b[0;34m,\u001b[0m\u001b[0;34m\u001b[0m\u001b[0;34m\u001b[0m\u001b[0m\n\u001b[1;32m    231\u001b[0m         )\n\u001b[0;32m--> 232\u001b[0;31m         \u001b[0;32mwith\u001b[0m \u001b[0mmap_httpcore_exceptions\u001b[0m\u001b[0;34m(\u001b[0m\u001b[0;34m)\u001b[0m\u001b[0;34m:\u001b[0m\u001b[0;34m\u001b[0m\u001b[0;34m\u001b[0m\u001b[0m\n\u001b[0m\u001b[1;32m    233\u001b[0m             \u001b[0mresp\u001b[0m \u001b[0;34m=\u001b[0m \u001b[0mself\u001b[0m\u001b[0;34m.\u001b[0m\u001b[0m_pool\u001b[0m\u001b[0;34m.\u001b[0m\u001b[0mhandle_request\u001b[0m\u001b[0;34m(\u001b[0m\u001b[0mreq\u001b[0m\u001b[0;34m)\u001b[0m\u001b[0;34m\u001b[0m\u001b[0;34m\u001b[0m\u001b[0m\n\u001b[1;32m    234\u001b[0m \u001b[0;34m\u001b[0m\u001b[0m\n",
            "\u001b[0;32m/usr/lib/python3.10/contextlib.py\u001b[0m in \u001b[0;36m__exit__\u001b[0;34m(self, typ, value, traceback)\u001b[0m\n\u001b[1;32m    151\u001b[0m                 \u001b[0mvalue\u001b[0m \u001b[0;34m=\u001b[0m \u001b[0mtyp\u001b[0m\u001b[0;34m(\u001b[0m\u001b[0;34m)\u001b[0m\u001b[0;34m\u001b[0m\u001b[0;34m\u001b[0m\u001b[0m\n\u001b[1;32m    152\u001b[0m             \u001b[0;32mtry\u001b[0m\u001b[0;34m:\u001b[0m\u001b[0;34m\u001b[0m\u001b[0;34m\u001b[0m\u001b[0m\n\u001b[0;32m--> 153\u001b[0;31m                 \u001b[0mself\u001b[0m\u001b[0;34m.\u001b[0m\u001b[0mgen\u001b[0m\u001b[0;34m.\u001b[0m\u001b[0mthrow\u001b[0m\u001b[0;34m(\u001b[0m\u001b[0mtyp\u001b[0m\u001b[0;34m,\u001b[0m \u001b[0mvalue\u001b[0m\u001b[0;34m,\u001b[0m \u001b[0mtraceback\u001b[0m\u001b[0;34m)\u001b[0m\u001b[0;34m\u001b[0m\u001b[0;34m\u001b[0m\u001b[0m\n\u001b[0m\u001b[1;32m    154\u001b[0m             \u001b[0;32mexcept\u001b[0m \u001b[0mStopIteration\u001b[0m \u001b[0;32mas\u001b[0m \u001b[0mexc\u001b[0m\u001b[0;34m:\u001b[0m\u001b[0;34m\u001b[0m\u001b[0;34m\u001b[0m\u001b[0m\n\u001b[1;32m    155\u001b[0m                 \u001b[0;31m# Suppress StopIteration *unless* it's the same exception that\u001b[0m\u001b[0;34m\u001b[0m\u001b[0;34m\u001b[0m\u001b[0m\n",
            "\u001b[0;32m/usr/local/lib/python3.10/dist-packages/httpx/_transports/default.py\u001b[0m in \u001b[0;36mmap_httpcore_exceptions\u001b[0;34m()\u001b[0m\n\u001b[1;32m     84\u001b[0m \u001b[0;34m\u001b[0m\u001b[0m\n\u001b[1;32m     85\u001b[0m         \u001b[0mmessage\u001b[0m \u001b[0;34m=\u001b[0m \u001b[0mstr\u001b[0m\u001b[0;34m(\u001b[0m\u001b[0mexc\u001b[0m\u001b[0;34m)\u001b[0m\u001b[0;34m\u001b[0m\u001b[0;34m\u001b[0m\u001b[0m\n\u001b[0;32m---> 86\u001b[0;31m         \u001b[0;32mraise\u001b[0m \u001b[0mmapped_exc\u001b[0m\u001b[0;34m(\u001b[0m\u001b[0mmessage\u001b[0m\u001b[0;34m)\u001b[0m \u001b[0;32mfrom\u001b[0m \u001b[0mexc\u001b[0m\u001b[0;34m\u001b[0m\u001b[0;34m\u001b[0m\u001b[0m\n\u001b[0m\u001b[1;32m     87\u001b[0m \u001b[0;34m\u001b[0m\u001b[0m\n\u001b[1;32m     88\u001b[0m \u001b[0;34m\u001b[0m\u001b[0m\n",
            "\u001b[0;31mConnectError\u001b[0m: [Errno 111] Connection refused"
          ]
        }
      ]
    },
    {
      "cell_type": "code",
      "source": [
        "!ollama serve &"
      ],
      "metadata": {
        "colab": {
          "base_uri": "https://localhost:8080/"
        },
        "id": "y3nTgKkfNESY",
        "outputId": "359155d1-8782-4232-a6bd-d0f12dd307c4"
      },
      "execution_count": null,
      "outputs": [
        {
          "output_type": "stream",
          "name": "stdout",
          "text": [
            "time=2024-04-11T17:29:55.146Z level=INFO source=images.go:804 msg=\"total blobs: 0\"\n",
            "time=2024-04-11T17:29:55.147Z level=INFO source=images.go:811 msg=\"total unused blobs removed: 0\"\n",
            "time=2024-04-11T17:29:55.147Z level=INFO source=routes.go:1118 msg=\"Listening on 127.0.0.1:11434 (version 0.1.31)\"\n",
            "time=2024-04-11T17:29:55.148Z level=INFO source=payload_common.go:113 msg=\"Extracting dynamic libraries to /tmp/ollama2035018923/runners ...\"\n",
            "time=2024-04-11T17:30:01.531Z level=INFO source=payload_common.go:140 msg=\"Dynamic LLM libraries [cpu_avx2 rocm_v60000 cuda_v11 cpu cpu_avx]\"\n",
            "time=2024-04-11T17:30:01.531Z level=INFO source=gpu.go:115 msg=\"Detecting GPU type\"\n",
            "time=2024-04-11T17:30:01.531Z level=INFO source=gpu.go:265 msg=\"Searching for GPU management library libcudart.so*\"\n",
            "time=2024-04-11T17:30:01.536Z level=INFO source=gpu.go:311 msg=\"Discovered GPU libraries: [/tmp/ollama2035018923/runners/cuda_v11/libcudart.so.11.0 /usr/local/cuda/lib64/libcudart.so.12.2.140]\"\n",
            "time=2024-04-11T17:30:01.537Z level=INFO source=gpu.go:340 msg=\"Unable to load cudart CUDA management library /tmp/ollama2035018923/runners/cuda_v11/libcudart.so.11.0: cudart init failure: 35\"\n",
            "time=2024-04-11T17:30:01.538Z level=INFO source=gpu.go:340 msg=\"Unable to load cudart CUDA management library /usr/local/cuda/lib64/libcudart.so.12.2.140: cudart init failure: 35\"\n",
            "time=2024-04-11T17:30:01.538Z level=INFO source=gpu.go:265 msg=\"Searching for GPU management library libnvidia-ml.so\"\n",
            "time=2024-04-11T17:30:01.544Z level=INFO source=gpu.go:311 msg=\"Discovered GPU libraries: []\"\n",
            "time=2024-04-11T17:30:01.544Z level=INFO source=cpu_common.go:11 msg=\"CPU has AVX2\"\n",
            "time=2024-04-11T17:30:01.544Z level=INFO source=routes.go:1141 msg=\"no GPU detected\"\n"
          ]
        }
      ]
    },
    {
      "cell_type": "code",
      "source": [
        "import ollama\n",
        "ollama.pull(\"phi\")"
      ],
      "metadata": {
        "id": "cZFlyVKnM6mU"
      },
      "execution_count": null,
      "outputs": []
    }
  ]
}